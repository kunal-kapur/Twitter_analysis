{
 "cells": [
  {
   "cell_type": "code",
   "execution_count": 26,
   "id": "e60fd07b",
   "metadata": {},
   "outputs": [],
   "source": [
    "import requests\n",
    "import os\n",
    "import json\n",
    "import tweepy\n",
    "from datetime import date, timedelta\n",
    "import traceback\n"
   ]
  },
  {
   "cell_type": "code",
   "execution_count": 27,
   "id": "e58ef181",
   "metadata": {},
   "outputs": [
    {
     "name": "stdout",
     "output_type": "stream",
     "text": [
      "['vwpbtXD41nbXy0a4LyfjkezGH\\n', 'h3znpwSqDSFTfxafMHL3Hr5v9XhWdD8yK7OUIa1IA6nMHn4h2J\\n', '1475951833663225859-mAXpRnfQieSAsXZGVV4wmmwDjV6tGB\\n', 'YQz1i91VPv8KVGHRhqQiqg0C8jxqfvx6Y0FlGEBMeUI5P\\n', 'AAAAAAAAAAAAAAAAAAAAADgZXgEAAAAAYRdetju0C0zv176dkiqu5%2BlpYWw%3DMOIe2zNFoB40Vvu2uaLn75AApNzni7OH5hKxRz4peG5uG9A7cT\\n']\n",
      "['vwpbtXD41nbXy0a4LyfjkezGH', 'h3znpwSqDSFTfxafMHL3Hr5v9XhWdD8yK7OUIa1IA6nMHn4h2J', '1475951833663225859-mAXpRnfQieSAsXZGVV4wmmwDjV6tGB', 'YQz1i91VPv8KVGHRhqQiqg0C8jxqfvx6Y0FlGEBMeUI5P', 'AAAAAAAAAAAAAAAAAAAAADgZXgEAAAAAYRdetju0C0zv176dkiqu5%2BlpYWw%3DMOIe2zNFoB40Vvu2uaLn75AApNzni7OH5hKxRz4peG5uG9A7cT']\n"
     ]
    }
   ],
   "source": [
    "file = open('.gitignore')\n",
    "lines = file.readlines()\n",
    "print(lines)\n",
    "elems = []\n",
    "for i in lines:\n",
    "    index = i.find(\"\\n\")\n",
    "    i = i[0:index]\n",
    "    elems.append(i)\n",
    "print(elems)\n",
    "#elems[0] = 'wasdsfda'\n",
    "#print(consumer_key)"
   ]
  },
  {
   "cell_type": "code",
   "execution_count": 28,
   "id": "ea1f78d5",
   "metadata": {},
   "outputs": [
    {
     "name": "stdout",
     "output_type": "stream",
     "text": [
      "<tweepy.client.Client object at 0x7fc8d004d460>\n"
     ]
    }
   ],
   "source": [
    "#auth = tweepy.OAuth2UserHandler(\n",
    "#   elems[0], elems[1], elems[2], elems[3]\n",
    "#)\n",
    "client = tweepy.Client(elems[4])\n",
    "\n",
    "print(client)\n"
   ]
  },
  {
   "cell_type": "code",
   "execution_count": 29,
   "id": "11ea4811",
   "metadata": {},
   "outputs": [
    {
     "name": "stdout",
     "output_type": "stream",
     "text": [
      "2022-05-17\n"
     ]
    }
   ],
   "source": [
    "today = date.today()\n",
    "print(today)"
   ]
  },
  {
   "cell_type": "code",
   "execution_count": 53,
   "id": "60611226",
   "metadata": {},
   "outputs": [
    {
     "ename": "IndentationError",
     "evalue": "unexpected indent (<ipython-input-53-df97e40fc269>, line 2)",
     "output_type": "error",
     "traceback": [
      "\u001b[0;36m  File \u001b[0;32m\"<ipython-input-53-df97e40fc269>\"\u001b[0;36m, line \u001b[0;32m2\u001b[0m\n\u001b[0;31m    max_results=100).flatten(limit=250):\u001b[0m\n\u001b[0m    ^\u001b[0m\n\u001b[0;31mIndentationError\u001b[0m\u001b[0;31m:\u001b[0m unexpected indent\n"
     ]
    }
   ],
   "source": [
    "#for tweet in tweepy.Paginator(client.search_recent_tweets, \"Tweepy\",\n",
    "                               # max_results=100).flatten(limit=250):\n",
    "   # print(tweet.id)"
   ]
  },
  {
   "cell_type": "markdown",
   "id": "bb524a21",
   "metadata": {},
   "source": [
    "This shows an example of the use of pagination tokens in order to navigate through several pages"
   ]
  },
  {
   "cell_type": "code",
   "execution_count": 96,
   "id": "961612e7",
   "metadata": {},
   "outputs": [
    {
     "name": "stdout",
     "output_type": "stream",
     "text": [
      "Response(data=None, includes={}, errors=[], meta={'next_token': '7140dibdnow9c7btw421e7i31tlxsy0mfkfdsn0rkga47', 'result_count': 0}) \n",
      "\n",
      "Response(data=[<Tweet id=1526623665093238786 text='Help us trend #SLOPPYJOE!\\n\\n@elonmusk \\n@ElonMuskNewsOrg \\n#doge #dogecoin #DogecoinToTheMoon \\n\\nI LOVE YOU AMERICA!'>, <Tweet id=1526623658877169664 text=\"@pnjaban @elonmusk that's me in a nutshell, except I'm not a bot\">, <Tweet id=1526623658411794435 text='@Paul_Drake_PI @elonmusk @Geoclew @johnrich Not sure if I’m supposed to be scared or turned on right now. I think maybe a bit of both?'>, <Tweet id=1526623654578200578 text=\"@newsmax @elonmusk Congratulations!  He's as stupid as you are.  Doesn't that make you feel all tingly?\">, <Tweet id=1526623650446729217 text='@elonmusk Just go look at Biden or Justin Trudeau followers. 70% bots. You’ll actually get addicted to clicking on them and seeing 0 followers'>, <Tweet id=1526623650387898368 text='@elonmusk GFX designer 75 years experience dm me sweetie'>, <Tweet id=1526623649913921536 text='@larryolart @elonmusk @EvaFoxU @SECGov Bullshit. Ask the bots to select all the boats and shit. You got this @elonmusk 😎'>], includes={}, errors=[], meta={'next_token': '7140dibdnow9c7btw421e7i31tlxshm267mhu084qulo6', 'previous_token': '77qpymm88g5h9vqklurcun0fstqxnhn994vevtcj81dti', 'result_count': 7, 'newest_id': '1526623665093238786', 'oldest_id': '1526623649913921536'})\n",
      "\n",
      "\n",
      "Response(data=[<Tweet id=1526623648932630528 text=\"The world would look very different if @elonmusk had taken his mom's advice\\nhttps://t.co/nhIgDcKimC\">, <Tweet id=1526623648869761030 text='Reckon @elonmusk ain’t going to like this news https://t.co/z7OUzo6anE'>, <Tweet id=1526623648341282828 text='@chrisdorsey @KobeissiLetter @elonmusk He literally WAIVED due diligence. Worst businessman in the world - and Mars too! lol'>, <Tweet id=1526623647858819077 text='@DonaldJTrumpJr @elonmusk You need to read Marx and revolutionise your life—but first read about the \"Paris Commune\" early 1800s to contextualise, the life of the Bourgeoisie and poor Proletariats...when you realise Marx was a humanist then look at Lenin/Trotsky who came from Ukraine 😜'>, <Tweet id=1526623647414177792 text='@cb_doge @elonmusk 🤣😂🤣😂'>, <Tweet id=1526623643089915907 text=\"@sll_777 @elonmusk That's not how math works. He could have given everyone $5, not $5,000,000,000. $5b to everyone would be $40 QUINTILLION. The entire planet isn't worth that much. Even if it were, all that money would be worth nothing due to instant inflation.\">, <Tweet id=1526623641693483008 text='@elonmusk Fake human beings 🤣'>, <Tweet id=1526623640107814915 text=\"@elonmusk dunno, it's hard to distinguish an NPC from an actual bot\">, <Tweet id=1526623639906717696 text='@HuobiGlobal @elonmusk ✔️'>, <Tweet id=1526623638228717570 text='@elonmusk Lmao no'>], includes={}, errors=[], meta={'previous_token': '77qpymm88g5h9vqklurcun0fstqxn1a7hytenwa3aac6w', 'result_count': 10, 'newest_id': '1526623648932630528', 'oldest_id': '1526623638228717570', 'next_token': '7140dibdnow9c7btw421e7i31tlxsc4enl6tlfx2d44z4'})\n"
     ]
    }
   ],
   "source": [
    "query = 'elonmusk'\n",
    "user_id = client.get_user(username = query).data.id\n",
    "first = client.get_users_mentions(id = user_id)\n",
    "print(first,\"\\n\")\n",
    "nextT = (first.meta['next_token'])\n",
    "second = (client.get_users_mentions(id = user_id,pagination_token = nextT))\n",
    "print(second)\n",
    "nextT = (second.meta['next_token'])\n",
    "print(\"\\n\")\n",
    "print(client.get_users_mentions(id = user_id,pagination_token = nextT))"
   ]
  },
  {
   "cell_type": "code",
   "execution_count": 68,
   "id": "046c308d",
   "metadata": {},
   "outputs": [],
   "source": [
    "user_tweets = []"
   ]
  },
  {
   "cell_type": "code",
   "execution_count": 145,
   "id": "91bc97ff",
   "metadata": {},
   "outputs": [],
   "source": [
    "def str_time(days_ago):\n",
    "    today = date.today()\n",
    "    curr_day = today - timedelta(days=days_ago)\n",
    "    return str(curr_day) + 'T00:00:00Z'"
   ]
  },
  {
   "cell_type": "code",
   "execution_count": 146,
   "id": "d0b1a8c3",
   "metadata": {},
   "outputs": [],
   "source": [
    "def extract_tweets(tweets):\n",
    "    tweet_list = []\n",
    "    #print(tweets,\"\\n\")\n",
    "    for i in tweets:\n",
    "        tweet_list.append(i.text)\n",
    "    return tweet_list"
   ]
  },
  {
   "cell_type": "code",
   "execution_count": 147,
   "id": "3da311bf",
   "metadata": {},
   "outputs": [],
   "source": [
    "def aggregate_tweets(user_name, days=0):\n",
    "    tweet_list = []\n",
    "    first = True\n",
    "    user_id = client.get_user(username = user_name).data.id\n",
    "    count = 0\n",
    "    print(user_id)\n",
    "    next_token = \"\"\n",
    "    found_token = False\n",
    "    tot = 0\n",
    "    while count<10:\n",
    "       \n",
    "        try:\n",
    "            if (found_token == False):\n",
    "                response = (client.get_users_mentions(id = user_id,max_results=5))\n",
    "               \n",
    "                next_token = response.meta['next_token']\n",
    "                found_token = True\n",
    "                tot += 1\n",
    "                continue\n",
    "            else:\n",
    "   \n",
    "                response_tweets = client.get_users_mentions(id = user_id,max_results=5,pagination_token = next_token)\n",
    "                if (response_tweets.data == None):\n",
    "                    tot+= 1\n",
    "                    continue\n",
    "                \n",
    "                next_token = response_tweets.meta['next_token']\n",
    "                tweet_list += extract_tweets(client.get_users_mentions(id = user_id,max_results=5,pagination_token = next_token)[0])\n",
    "            count += 1\n",
    "            \n",
    "        except:\n",
    "            traceback.print_exc()\n",
    "            break\n",
    "    print(tot)\n",
    "    return tweet_list\n",
    "                \n",
    "        \n"
   ]
  },
  {
   "cell_type": "code",
   "execution_count": 148,
   "id": "7736e0a9",
   "metadata": {},
   "outputs": [
    {
     "name": "stdout",
     "output_type": "stream",
     "text": [
      "44196397\n",
      "4\n"
     ]
    }
   ],
   "source": [
    "user_list = aggregate_tweets('elonmusk')"
   ]
  },
  {
   "cell_type": "code",
   "execution_count": 150,
   "id": "621e06f8",
   "metadata": {},
   "outputs": [
    {
     "data": {
      "text/plain": [
       "[\"@catturd2 @elonmusk I'm guessing my days are numbered, sigh\",\n",
       " '@stablekwon #Save #LunaTerra \\nWe are the supporters of the original Luna currency Take care of our protest\\nOtherwise, we will continue to protest in international forums We are united with #LUNA\\n@terra_money \\n@stablekwon \\n@stablechen \\n@cz_binance\\n@elonmusk\\n@VitalikButerin\\n#LUNAUSDT https://t.co/mwAlFIu9hb',\n",
       " '@James93166501 @cherly_u_jest @whhhhaa69 @hoodieibro @elonmusk Lol yeah poor people are just stupid that’s their problem.',\n",
       " '@HootyOwlz77 @cb_doge @elonmusk https://t.co/WW9TmyLKv1',\n",
       " '@elonmusk If you’re gonna complain this much why offer to buy it. Why not just make your own perfect versions of a social media app.',\n",
       " '@legacy_sol @CamoChameleonC @GreatGoatsNFT Need this @elonmusk @garyvee @nftjakey',\n",
       " '@mahcmit @NukeItDaddy @TheRealPlanC @elonmusk https://t.co/WN1rO5jGTi',\n",
       " '@RizzleDizzle21 @elonmusk @cb_doge He never said that was what he believed 😂',\n",
       " '@elonmusk Which one of me are you talking to?',\n",
       " '@elonmusk @AMC_Apee @EvaFoxU @SECGov @FBI @NewYorkFBI the @SECGov and it’s director @GaryGensler are purposely allowing daily crime of synthetic shares and dark pools  as they are corrupt. DO SOMETHING! #amc #gme',\n",
       " '@astoriacub7 @CommieGIR @JonMora2023 @Phender @elonmusk @PPathole @Twitter 66 million bots 😂😂😂😂😂😂😂😂',\n",
       " '@fraggelcurris @Kristennetten @elonmusk @paraga @MyDogeTips @fraggelcurris 6.9',\n",
       " '@JusticeForEmma @S3XYDOG3VAD3R @kennethray25 @DogeAccept @TheWizardOfDoge @Michael04665246 @BurgerKingCAN @Im_in_Crypto @MyDogeTip @pangeranxnyamat @spamiejunk @ZillaDoge @Fierce_Skit @meta_rach @TheDogeBird @sparkles_rae @MyDogeCTO @topherAlba26 @thigpen_y @McDonalds @SlimJim @dogecoin @MikeTyson @elonmusk @McDonaldsCorp @ErikStolhanske @BurgerKing https://t.co/bt5OVyO9cH',\n",
       " '@elonmusk @EvaFoxU @SECGov I believe you want @SEC_Enforcement.  They should check $TSLA books at the same time.',\n",
       " '@elonmusk ish this tweet.🤬',\n",
       " '@HootyOwlz77 @cb_doge @elonmusk So you are a gay dude shaming someone for its appearance and expect respect to the LGBTQ community?',\n",
       " \"@elonmusk @cb_doge Elon, save your money and invest in Truth Social or another free speech platform that needs help growing. If you leave Twitter, it will go Splatter. You're the one keeping it alive imo\",\n",
       " '@elonmusk \\U0001faf6🏾\\U0001fae0👉🏾🖤🛸🚀',\n",
       " '@Oluomoofderby Orin yin daru \\n@elonmusk self no fit buy Dress wey wort $794k ahahahhaha fear God',\n",
       " '@elonmusk No way.  Real humans with a brain and independent thinking are banned or regularly in twitter jail, the rest are sheep and bots and NPC on this virtual reality',\n",
       " '@dumontprice @garyvee We def don’t care lol got like 500followers in 20 years on Twitter and @Twitter denied my trademark rights to own the @ Shoota handle … this will all change once @elonmusk is shown that missing 5%..',\n",
       " \"@AnnafiWahed @elonmusk @johnrich It's almost as if submitting truthful/accurate SEC filings matters ...\",\n",
       " '@Peoples_Pundit @elonmusk Musk does not currently own or run Twitter',\n",
       " '@elonmusk there are a lot of fake accounts on twitter that belong to the same person',\n",
       " '@lcga369 @elonmusk @Timcast  was right about Twitter https://t.co/oEe6VbYvVA',\n",
       " '@GerberKawasaki @elonmusk Daily MACD lowest in $TSLA history. You buying? https://t.co/3ehTGF9usi',\n",
       " \"@SRuhle @elonmusk They are a publically traded company.  Shouldn't they be able and required to do so?\",\n",
       " '@stablekwon We are the supporters of the original #Luna currency\\nTake care of our protest\\nOtherwise, we will continue to protest in international forums\\nWe are united with #Luna\\n\\n@terra_money \\n@stablekwon \\n@stablechen \\n@cz_binance\\n@elonmusk\\n@VitalikButerin\\n#LUNAUSDT \\n#lunacoin https://t.co/Q7A8eeOPV4',\n",
       " '@JusticeForEmma @John_Inubook @S3XYDOG3VAD3R @kennethray25 @DogeAccept @TheWizardOfDoge @Michael04665246 @BurgerKingCAN @Im_in_Crypto @MyDogeTip @pangeranxnyamat @spamiejunk @ZillaDoge @Fierce_Skit @meta_rach @sparkles_rae @MyDogeCTO @topherAlba26 @thigpen_y @McDonalds @SlimJim @dogecoin @MikeTyson @elonmusk @McDonaldsCorp @ErikStolhanske @BurgerKing Must be nice to tip bot :)',\n",
       " '@trevormwills @elonmusk feels to me the last couple days that twitter is scrambling to take down those bots with the spotlight on them',\n",
       " '@elonmusk @johnrich Twitter thought they were safe fudging numbers. Who could BUY Twitter lol',\n",
       " '@elonmusk Can you talk about terra LUNA and make the price go up PLEASE!??',\n",
       " '@ItsThatGuy330 @elonmusk Bot/Troll, same thing, brainwashed.',\n",
       " '@cb_doge @elonmusk There is a technical solution',\n",
       " '@realMeetKevin @elonmusk https://t.co/43I5uYJets',\n",
       " '@saintmorpheus @elonmusk https://t.co/T3KPnnLliZ',\n",
       " '@elonmusk Here’s a use case for twitter’s algorithm: don’t sweat the IBM fellows that have passed their use by date. Coding from the 70’s until they’re in their 70’s has taken its toll. Just because one has “oo” in their surname doesn’t mean they have tweet sense. Could be tweet nonsense',\n",
       " '@elonmusk Your Fake News...',\n",
       " '@elonmusk \\nBetween you and Jeff, you guys may actually help save the country from total destruction. \\nThanks for taking the stand!',\n",
       " '@elonmusk wait until the workers that tried to unionize @Tesla see this https://t.co/4BxeujqAa4',\n",
       " '@GmeImmortan @elonmusk @paraga He’s launching his own platform, but not before he let’s everyone know that Twitter is such an infested bot show that he wouldn’t touch it.',\n",
       " '@Newsweek @elonmusk Voting is a private thing.',\n",
       " '@GerberKawasaki @realMeetKevin @elonmusk \"Climate activist\" 😂😂😂🤡',\n",
       " '@elonmusk Yes',\n",
       " '@elonmusk Oops they did it again. https://t.co/SM7LBrnlJD',\n",
       " '@elonmusk Fake',\n",
       " '@varsi_appel @dawn_sickles @PowWowChowder @MrWells2022 @AJM1521 @vprl2008 @dnp4 @BannedNice @elonmusk @pfizer https://t.co/C1bZB50cX8',\n",
       " '@cybermetaverse1 @greg16676935420 @elonmusk @EvaFoxU @SECGov Finally. someone else looked with their special eyes and saw greg is a bot 😂',\n",
       " '@NicoleBehnam @elonmusk',\n",
       " '@Tomy_Rohde @Jameson_es @JeremyClarkson @elonmusk @rosalia @joaquinarte Sabes que va a ser un Pasquali, no un Fendt https://t.co/M8gOJS48HS']"
      ]
     },
     "execution_count": 150,
     "metadata": {},
     "output_type": "execute_result"
    }
   ],
   "source": [
    "user_list"
   ]
  },
  {
   "cell_type": "code",
   "execution_count": 11,
   "id": "046a83cd",
   "metadata": {},
   "outputs": [
    {
     "ename": "NameError",
     "evalue": "name 'tweet_list' is not defined",
     "output_type": "error",
     "traceback": [
      "\u001b[0;31m---------------------------------------------------------------------------\u001b[0m",
      "\u001b[0;31mNameError\u001b[0m                                 Traceback (most recent call last)",
      "\u001b[0;32m<ipython-input-11-6403b82fdfbc>\u001b[0m in \u001b[0;36m<module>\u001b[0;34m\u001b[0m\n\u001b[0;32m----> 1\u001b[0;31m \u001b[0mlen\u001b[0m\u001b[0;34m(\u001b[0m\u001b[0mtweet_list\u001b[0m\u001b[0;34m)\u001b[0m\u001b[0;34m\u001b[0m\u001b[0;34m\u001b[0m\u001b[0m\n\u001b[0m",
      "\u001b[0;31mNameError\u001b[0m: name 'tweet_list' is not defined"
     ]
    }
   ],
   "source": [
    "len(tweet_list)"
   ]
  },
  {
   "cell_type": "code",
   "execution_count": null,
   "id": "8c52de56",
   "metadata": {},
   "outputs": [],
   "source": [
    "for i in range(1,20):\n",
    "    days_ago = timedelta(days=i)\n",
    "    time = start_time - days_ago\n",
    "    time = str(time) + 'T00:00:00Z'\n",
    "    tweet_list = client.search_recent_tweets(query=query,max_results =100,start_time = start_time)[0]\n",
    "    tweets.append()"
   ]
  },
  {
   "cell_type": "code",
   "execution_count": null,
   "id": "acf7e1b3",
   "metadata": {},
   "outputs": [],
   "source": [
    "first_100_tweets = client.search_recent_tweets(query=query,max_results =100,start_time = start_time)[0]\n",
    "#print(first_100_tweets)\n",
    "#last_tweet = first_100_tweets[99]\n",
    "print(len(first_100_tweets))"
   ]
  },
  {
   "cell_type": "code",
   "execution_count": null,
   "id": "c74dd100",
   "metadata": {},
   "outputs": [],
   "source": [
    "print(first_100_tweets)"
   ]
  },
  {
   "cell_type": "code",
   "execution_count": null,
   "id": "7ad48116",
   "metadata": {
    "scrolled": true
   },
   "outputs": [],
   "source": [
    "client.get_tweet(id = last_tweet.id)"
   ]
  },
  {
   "cell_type": "code",
   "execution_count": null,
   "id": "0992d3cf",
   "metadata": {},
   "outputs": [],
   "source": []
  },
  {
   "cell_type": "code",
   "execution_count": null,
   "id": "8e22a3cb",
   "metadata": {},
   "outputs": [],
   "source": []
  },
  {
   "cell_type": "code",
   "execution_count": null,
   "id": "30513537",
   "metadata": {},
   "outputs": [],
   "source": []
  },
  {
   "cell_type": "code",
   "execution_count": null,
   "id": "0fb2fec5",
   "metadata": {},
   "outputs": [],
   "source": []
  },
  {
   "cell_type": "code",
   "execution_count": null,
   "id": "7a395aac",
   "metadata": {},
   "outputs": [],
   "source": []
  },
  {
   "cell_type": "code",
   "execution_count": null,
   "id": "4e832912",
   "metadata": {},
   "outputs": [],
   "source": []
  },
  {
   "cell_type": "code",
   "execution_count": null,
   "id": "314617f3",
   "metadata": {},
   "outputs": [],
   "source": []
  }
 ],
 "metadata": {
  "kernelspec": {
   "display_name": "Python 3",
   "language": "python",
   "name": "python3"
  },
  "language_info": {
   "codemirror_mode": {
    "name": "ipython",
    "version": 3
   },
   "file_extension": ".py",
   "mimetype": "text/x-python",
   "name": "python",
   "nbconvert_exporter": "python",
   "pygments_lexer": "ipython3",
   "version": "3.8.8"
  }
 },
 "nbformat": 4,
 "nbformat_minor": 5
}
