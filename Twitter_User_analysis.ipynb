{
 "cells": [
  {
   "cell_type": "code",
   "execution_count": 54,
   "id": "e60fd07b",
   "metadata": {},
   "outputs": [],
   "source": [
    "import requests\n",
    "import os\n",
    "import json\n",
    "import tweepy"
   ]
  },
  {
   "cell_type": "code",
   "execution_count": 55,
   "id": "e58ef181",
   "metadata": {},
   "outputs": [
    {
     "name": "stdout",
     "output_type": "stream",
     "text": [
      "['vwpbtXD41nbXy0a4LyfjkezGH\\n', 'h3znpwSqDSFTfxafMHL3Hr5v9XhWdD8yK7OUIa1IA6nMHn4h2J\\n', '1475951833663225859-mAXpRnfQieSAsXZGVV4wmmwDjV6tGB\\n', 'YQz1i91VPv8KVGHRhqQiqg0C8jxqfvx6Y0FlGEBMeUI5P\\n', 'AAAAAAAAAAAAAAAAAAAAADgZXgEAAAAAYRdetju0C0zv176dkiqu5%2BlpYWw%3DMOIe2zNFoB40Vvu2uaLn75AApNzni7OH5hKxRz4peG5uG9A7cT\\n']\n",
      "['vwpbtXD41nbXy0a4LyfjkezGH', 'h3znpwSqDSFTfxafMHL3Hr5v9XhWdD8yK7OUIa1IA6nMHn4h2J', '1475951833663225859-mAXpRnfQieSAsXZGVV4wmmwDjV6tGB', 'YQz1i91VPv8KVGHRhqQiqg0C8jxqfvx6Y0FlGEBMeUI5P', 'AAAAAAAAAAAAAAAAAAAAADgZXgEAAAAAYRdetju0C0zv176dkiqu5%2BlpYWw%3DMOIe2zNFoB40Vvu2uaLn75AApNzni7OH5hKxRz4peG5uG9A7cT']\n"
     ]
    }
   ],
   "source": [
    "file = open('.gitignore')\n",
    "lines = file.readlines()\n",
    "print(lines)\n",
    "elems = []\n",
    "for i in lines:\n",
    "    index = i.find(\"\\n\")\n",
    "    i = i[0:index]\n",
    "    elems.append(i)\n",
    "print(elems)\n",
    "elems[0] = 'wasdsfda'\n",
    "#print(consumer_key)"
   ]
  },
  {
   "cell_type": "code",
   "execution_count": 62,
   "id": "ea1f78d5",
   "metadata": {},
   "outputs": [
    {
     "name": "stdout",
     "output_type": "stream",
     "text": [
      "<tweepy.client.Client object at 0x7fd6900e46d0>\n"
     ]
    }
   ],
   "source": [
    "#auth = tweepy.OAuth2UserHandler(elems[4])\n",
    "client = tweepy.Client(elems[4])\n",
    "print(api)\n"
   ]
  },
  {
   "cell_type": "code",
   "execution_count": 75,
   "id": "d5363899",
   "metadata": {},
   "outputs": [
    {
     "ename": "Forbidden",
     "evalue": "403 Forbidden\nWhen authenticating requests to the Twitter API v2 endpoints, you must use keys and tokens from a Twitter developer App that is attached to a Project. You can create a project via the developer portal.",
     "output_type": "error",
     "traceback": [
      "\u001b[0;31m---------------------------------------------------------------------------\u001b[0m",
      "\u001b[0;31mForbidden\u001b[0m                                 Traceback (most recent call last)",
      "\u001b[0;32m<ipython-input-75-5cbe1585e62b>\u001b[0m in \u001b[0;36m<module>\u001b[0;34m\u001b[0m\n\u001b[1;32m      1\u001b[0m \u001b[0mquery\u001b[0m \u001b[0;34m=\u001b[0m \u001b[0;34m'from:elonmusk'\u001b[0m\u001b[0;34m\u001b[0m\u001b[0;34m\u001b[0m\u001b[0m\n\u001b[1;32m      2\u001b[0m \u001b[0;34m\u001b[0m\u001b[0m\n\u001b[0;32m----> 3\u001b[0;31m \u001b[0mtweets\u001b[0m \u001b[0;34m=\u001b[0m \u001b[0mclient\u001b[0m\u001b[0;34m.\u001b[0m\u001b[0msearch_all_tweets\u001b[0m\u001b[0;34m(\u001b[0m\u001b[0mquery\u001b[0m\u001b[0;34m=\u001b[0m\u001b[0mquery\u001b[0m\u001b[0;34m)\u001b[0m\u001b[0;34m\u001b[0m\u001b[0;34m\u001b[0m\u001b[0m\n\u001b[0m\u001b[1;32m      4\u001b[0m \u001b[0mprint\u001b[0m\u001b[0;34m(\u001b[0m\u001b[0mtweets\u001b[0m\u001b[0;34m)\u001b[0m\u001b[0;34m\u001b[0m\u001b[0;34m\u001b[0m\u001b[0m\n",
      "\u001b[0;32m~/opt/anaconda3/lib/python3.8/site-packages/tweepy/client.py\u001b[0m in \u001b[0;36msearch_all_tweets\u001b[0;34m(self, query, **params)\u001b[0m\n\u001b[1;32m   1143\u001b[0m         \"\"\"\n\u001b[1;32m   1144\u001b[0m         \u001b[0mparams\u001b[0m\u001b[0;34m[\u001b[0m\u001b[0;34m\"query\"\u001b[0m\u001b[0;34m]\u001b[0m \u001b[0;34m=\u001b[0m \u001b[0mquery\u001b[0m\u001b[0;34m\u001b[0m\u001b[0;34m\u001b[0m\u001b[0m\n\u001b[0;32m-> 1145\u001b[0;31m         return self._make_request(\n\u001b[0m\u001b[1;32m   1146\u001b[0m             \u001b[0;34m\"GET\"\u001b[0m\u001b[0;34m,\u001b[0m \u001b[0;34m\"/2/tweets/search/all\"\u001b[0m\u001b[0;34m,\u001b[0m \u001b[0mparams\u001b[0m\u001b[0;34m=\u001b[0m\u001b[0mparams\u001b[0m\u001b[0;34m,\u001b[0m\u001b[0;34m\u001b[0m\u001b[0;34m\u001b[0m\u001b[0m\n\u001b[1;32m   1147\u001b[0m             endpoint_parameters=(\n",
      "\u001b[0;32m~/opt/anaconda3/lib/python3.8/site-packages/tweepy/client.py\u001b[0m in \u001b[0;36m_make_request\u001b[0;34m(self, method, route, params, endpoint_parameters, json, data_type, user_auth)\u001b[0m\n\u001b[1;32m    124\u001b[0m         \u001b[0mrequest_params\u001b[0m \u001b[0;34m=\u001b[0m \u001b[0mself\u001b[0m\u001b[0;34m.\u001b[0m\u001b[0m_process_params\u001b[0m\u001b[0;34m(\u001b[0m\u001b[0mparams\u001b[0m\u001b[0;34m,\u001b[0m \u001b[0mendpoint_parameters\u001b[0m\u001b[0;34m)\u001b[0m\u001b[0;34m\u001b[0m\u001b[0;34m\u001b[0m\u001b[0m\n\u001b[1;32m    125\u001b[0m \u001b[0;34m\u001b[0m\u001b[0m\n\u001b[0;32m--> 126\u001b[0;31m         response = self.request(method, route, params=request_params,\n\u001b[0m\u001b[1;32m    127\u001b[0m                                 json=json, user_auth=user_auth)\n\u001b[1;32m    128\u001b[0m \u001b[0;34m\u001b[0m\u001b[0m\n",
      "\u001b[0;32m~/opt/anaconda3/lib/python3.8/site-packages/tweepy/client.py\u001b[0m in \u001b[0;36mrequest\u001b[0;34m(self, method, route, params, json, user_auth)\u001b[0m\n\u001b[1;32m     97\u001b[0m                 \u001b[0;32mraise\u001b[0m \u001b[0mUnauthorized\u001b[0m\u001b[0;34m(\u001b[0m\u001b[0mresponse\u001b[0m\u001b[0;34m)\u001b[0m\u001b[0;34m\u001b[0m\u001b[0;34m\u001b[0m\u001b[0m\n\u001b[1;32m     98\u001b[0m             \u001b[0;32mif\u001b[0m \u001b[0mresponse\u001b[0m\u001b[0;34m.\u001b[0m\u001b[0mstatus_code\u001b[0m \u001b[0;34m==\u001b[0m \u001b[0;36m403\u001b[0m\u001b[0;34m:\u001b[0m\u001b[0;34m\u001b[0m\u001b[0;34m\u001b[0m\u001b[0m\n\u001b[0;32m---> 99\u001b[0;31m                 \u001b[0;32mraise\u001b[0m \u001b[0mForbidden\u001b[0m\u001b[0;34m(\u001b[0m\u001b[0mresponse\u001b[0m\u001b[0;34m)\u001b[0m\u001b[0;34m\u001b[0m\u001b[0;34m\u001b[0m\u001b[0m\n\u001b[0m\u001b[1;32m    100\u001b[0m             \u001b[0;32mif\u001b[0m \u001b[0mresponse\u001b[0m\u001b[0;34m.\u001b[0m\u001b[0mstatus_code\u001b[0m \u001b[0;34m==\u001b[0m \u001b[0;36m404\u001b[0m\u001b[0;34m:\u001b[0m\u001b[0;34m\u001b[0m\u001b[0;34m\u001b[0m\u001b[0m\n\u001b[1;32m    101\u001b[0m                 \u001b[0;32mraise\u001b[0m \u001b[0mNotFound\u001b[0m\u001b[0;34m(\u001b[0m\u001b[0mresponse\u001b[0m\u001b[0;34m)\u001b[0m\u001b[0;34m\u001b[0m\u001b[0;34m\u001b[0m\u001b[0m\n",
      "\u001b[0;31mForbidden\u001b[0m: 403 Forbidden\nWhen authenticating requests to the Twitter API v2 endpoints, you must use keys and tokens from a Twitter developer App that is attached to a Project. You can create a project via the developer portal."
     ]
    }
   ],
   "source": [
    "query = 'from:elonmusk'\n",
    "\n",
    "tweets = client.search_all_tweets(query=query)\n",
    "print(tweets)"
   ]
  },
  {
   "cell_type": "code",
   "execution_count": 49,
   "id": "acf7e1b3",
   "metadata": {},
   "outputs": [],
   "source": [
    "def twitter_connection():\n",
    "    consumer_api_key = os.environ[\"TWITTER_CONSUMER_API_KEY\"]\n",
    "    consumer_api_secret = os.environ[\"TWITTER_CONSUMER_API_SECRET\"]\n",
    "\n",
    "    auth = tw.OAuthHandler(consumer_api_key, consumer_api_secret)\n",
    "    api = tw.API(auth, wait_on_rate_limit=True)\n",
    "    return api\n",
    "\n",
    "\n",
    "def create_cursor(api, search_words, date_since, language=\"en\", items_limit=3000):\n",
    "    \n",
    "    # Collect tweets\n",
    "    tweets = tw.Cursor(api.search,\n",
    "                  q=search_words,\n",
    "                  lang=language,\n",
    "                  since=date_since).items(items_limit)\n",
    "\n",
    "\n",
    "    print(f\"retreive new tweets ...\")\n",
    "    tweets_copy = []\n",
    "    for tweet in tqdm(tweets):\n",
    "        tweets_copy.append(tweet)\n",
    "     \n",
    "    print(f\"new tweets retrieved: {len(tweets_copy)}\")\n",
    "\n",
    "    return tweets_copy\n",
    "   \n"
   ]
  },
  {
   "cell_type": "code",
   "execution_count": 29,
   "id": "7ad48116",
   "metadata": {},
   "outputs": [
    {
     "name": "stdout",
     "output_type": "stream",
     "text": [
      "200\n",
      "{\n",
      "    \"data\": [\n",
      "        {\n",
      "            \"created_at\": \"2009-06-02T20:12:29.000Z\",\n",
      "            \"description\": \"\",\n",
      "            \"id\": \"44196397\",\n",
      "            \"name\": \"Elon Musk\",\n",
      "            \"username\": \"elonmusk\"\n",
      "        }\n",
      "    ]\n",
      "}\n",
      "HERE\n"
     ]
    }
   ],
   "source": [
    "user = create_cursor()"
   ]
  },
  {
   "cell_type": "code",
   "execution_count": 44,
   "id": "0992d3cf",
   "metadata": {},
   "outputs": [],
   "source": []
  },
  {
   "cell_type": "code",
   "execution_count": 43,
   "id": "8e22a3cb",
   "metadata": {},
   "outputs": [
    {
     "name": "stdout",
     "output_type": "stream",
     "text": [
      "200\n",
      "{\n",
      "    \"data\": [\n",
      "        {\n",
      "            \"author_id\": \"2244994945\",\n",
      "            \"id\": \"1278747501642657792\",\n",
      "            \"lang\": \"en\",\n",
      "            \"text\": \"It's been a year since Twitter's Developer Labs launched.\\n\\nAs we build towards the next generation of the #TwitterAPI (coming VERY soon), see what we've learned and changed along the way. https://t.co/WvjuEWCa6G\"\n",
      "        },\n",
      "        {\n",
      "            \"author_id\": \"2244994945\",\n",
      "            \"id\": \"1255542774432063488\",\n",
      "            \"lang\": \"en\",\n",
      "            \"text\": \"During these unprecedented times, what\\u2019s happening on Twitter can help the world better understand &amp; respond to the pandemic. \\n\\nWe're launching a free COVID-19 stream endpoint so qualified devs &amp; researchers can study the public conversation in real-time. https://t.co/BPqMcQzhId\"\n",
      "        }\n",
      "    ]\n",
      "}\n"
     ]
    }
   ],
   "source": []
  },
  {
   "cell_type": "code",
   "execution_count": null,
   "id": "30513537",
   "metadata": {},
   "outputs": [],
   "source": []
  },
  {
   "cell_type": "code",
   "execution_count": 30,
   "id": "0fb2fec5",
   "metadata": {},
   "outputs": [],
   "source": []
  },
  {
   "cell_type": "code",
   "execution_count": 33,
   "id": "7a395aac",
   "metadata": {},
   "outputs": [
    {
     "name": "stdout",
     "output_type": "stream",
     "text": [
      "https://api.twitter.com/2/users/by?usernames=elonmusk&user.fields=description,created_at\n"
     ]
    }
   ],
   "source": []
  },
  {
   "cell_type": "code",
   "execution_count": 34,
   "id": "4e832912",
   "metadata": {},
   "outputs": [
    {
     "ename": "SyntaxError",
     "evalue": "invalid syntax (<ipython-input-34-4502f2234c65>, line 1)",
     "output_type": "error",
     "traceback": [
      "\u001b[0;36m  File \u001b[0;32m\"<ipython-input-34-4502f2234c65>\"\u001b[0;36m, line \u001b[0;32m1\u001b[0m\n\u001b[0;31m    curl https://api.twitter.com/2/users/2244994945 -H \"Authorization: Bearer $ACCESS_TOKEN\"\u001b[0m\n\u001b[0m         ^\u001b[0m\n\u001b[0;31mSyntaxError\u001b[0m\u001b[0;31m:\u001b[0m invalid syntax\n"
     ]
    }
   ],
   "source": []
  },
  {
   "cell_type": "code",
   "execution_count": null,
   "id": "314617f3",
   "metadata": {},
   "outputs": [],
   "source": []
  }
 ],
 "metadata": {
  "kernelspec": {
   "display_name": "Python 3",
   "language": "python",
   "name": "python3"
  },
  "language_info": {
   "codemirror_mode": {
    "name": "ipython",
    "version": 3
   },
   "file_extension": ".py",
   "mimetype": "text/x-python",
   "name": "python",
   "nbconvert_exporter": "python",
   "pygments_lexer": "ipython3",
   "version": "3.8.8"
  }
 },
 "nbformat": 4,
 "nbformat_minor": 5
}
