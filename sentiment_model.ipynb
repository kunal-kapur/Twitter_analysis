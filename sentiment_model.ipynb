{
 "cells": [
  {
   "cell_type": "code",
   "execution_count": 83,
   "id": "d2b87565",
   "metadata": {},
   "outputs": [],
   "source": [
    "import pandas as pd\n",
    "import seaborn as sns\n",
    "import matplotlib.pyplot as plt\n",
    "from sklearn.svm import LinearSVC\n",
    "from sklearn.naive_bayes import BernoulliNB\n",
    "from sklearn.linear_model import LogisticRegression\n",
    "from sklearn.model_selection import train_test_split\n",
    "from sklearn.feature_extraction.text import TfidfVectorizer\n",
    "from sklearn.metrics import confusion_matrix, classification_report\n",
    "import numpy as np"
   ]
  },
  {
   "cell_type": "code",
   "execution_count": 88,
   "id": "5ab20a27",
   "metadata": {},
   "outputs": [],
   "source": [
    "df = pd.read_parquet(\"training_data.parquet\")\n",
    "df_test = pd.read_parquet(\"test_data.parquet\")"
   ]
  },
  {
   "cell_type": "code",
   "execution_count": 89,
   "id": "543d1796",
   "metadata": {},
   "outputs": [
    {
     "data": {
      "text/html": [
       "<div>\n",
       "<style scoped>\n",
       "    .dataframe tbody tr th:only-of-type {\n",
       "        vertical-align: middle;\n",
       "    }\n",
       "\n",
       "    .dataframe tbody tr th {\n",
       "        vertical-align: top;\n",
       "    }\n",
       "\n",
       "    .dataframe thead th {\n",
       "        text-align: right;\n",
       "    }\n",
       "</style>\n",
       "<table border=\"1\" class=\"dataframe\">\n",
       "  <thead>\n",
       "    <tr style=\"text-align: right;\">\n",
       "      <th></th>\n",
       "      <th>target</th>\n",
       "      <th>text</th>\n",
       "      <th>text_len</th>\n",
       "      <th>tokenized_text</th>\n",
       "    </tr>\n",
       "  </thead>\n",
       "  <tbody>\n",
       "    <tr>\n",
       "      <th>1307018</th>\n",
       "      <td>4</td>\n",
       "      <td>@LaMamaNaturale - they have outhouses that can...</td>\n",
       "      <td>74</td>\n",
       "      <td>[outhouse, used, purpose]</td>\n",
       "    </tr>\n",
       "    <tr>\n",
       "      <th>1004419</th>\n",
       "      <td>4</td>\n",
       "      <td>@almightyvickyv Because curry is the best EVER...</td>\n",
       "      <td>50</td>\n",
       "      <td>[curry, best, ever]</td>\n",
       "    </tr>\n",
       "    <tr>\n",
       "      <th>788888</th>\n",
       "      <td>0</td>\n",
       "      <td>Morning All...  I think Gmail has abandoned th...</td>\n",
       "      <td>127</td>\n",
       "      <td>[morning, think, gmail, abandoned, sm, text, m...</td>\n",
       "    </tr>\n",
       "    <tr>\n",
       "      <th>963563</th>\n",
       "      <td>4</td>\n",
       "      <td>@garymoneysmith  It was a good morning. Defini...</td>\n",
       "      <td>91</td>\n",
       "      <td>[good, morning, definitely, foundation, build,...</td>\n",
       "    </tr>\n",
       "    <tr>\n",
       "      <th>191483</th>\n",
       "      <td>0</td>\n",
       "      <td>Dear twitter world. Those taco nachos are not ...</td>\n",
       "      <td>123</td>\n",
       "      <td>[dear, twitter, world, taco, nacho, good, soun...</td>\n",
       "    </tr>\n",
       "  </tbody>\n",
       "</table>\n",
       "</div>"
      ],
      "text/plain": [
       "         target                                               text  text_len  \\\n",
       "1307018       4  @LaMamaNaturale - they have outhouses that can...        74   \n",
       "1004419       4  @almightyvickyv Because curry is the best EVER...        50   \n",
       "788888        0  Morning All...  I think Gmail has abandoned th...       127   \n",
       "963563        4  @garymoneysmith  It was a good morning. Defini...        91   \n",
       "191483        0  Dear twitter world. Those taco nachos are not ...       123   \n",
       "\n",
       "                                            tokenized_text  \n",
       "1307018                          [outhouse, used, purpose]  \n",
       "1004419                                [curry, best, ever]  \n",
       "788888   [morning, think, gmail, abandoned, sm, text, m...  \n",
       "963563   [good, morning, definitely, foundation, build,...  \n",
       "191483   [dear, twitter, world, taco, nacho, good, soun...  "
      ]
     },
     "execution_count": 89,
     "metadata": {},
     "output_type": "execute_result"
    }
   ],
   "source": [
    "df.head()"
   ]
  },
  {
   "cell_type": "code",
   "execution_count": 90,
   "id": "f93eb8fd",
   "metadata": {},
   "outputs": [
    {
     "data": {
      "text/html": [
       "<div>\n",
       "<style scoped>\n",
       "    .dataframe tbody tr th:only-of-type {\n",
       "        vertical-align: middle;\n",
       "    }\n",
       "\n",
       "    .dataframe tbody tr th {\n",
       "        vertical-align: top;\n",
       "    }\n",
       "\n",
       "    .dataframe thead th {\n",
       "        text-align: right;\n",
       "    }\n",
       "</style>\n",
       "<table border=\"1\" class=\"dataframe\">\n",
       "  <thead>\n",
       "    <tr style=\"text-align: right;\">\n",
       "      <th></th>\n",
       "      <th>target</th>\n",
       "      <th>text</th>\n",
       "      <th>text_len</th>\n",
       "      <th>tokenized_text</th>\n",
       "    </tr>\n",
       "  </thead>\n",
       "  <tbody>\n",
       "    <tr>\n",
       "      <th>1454731</th>\n",
       "      <td>4</td>\n",
       "      <td>@luckeyme Thanks Tim - it's pretty similar to ...</td>\n",
       "      <td>94</td>\n",
       "      <td>[thanks, tim, pretty, similar, looking, started]</td>\n",
       "    </tr>\n",
       "    <tr>\n",
       "      <th>993437</th>\n",
       "      <td>4</td>\n",
       "      <td>eat you DINNER guys..</td>\n",
       "      <td>22</td>\n",
       "      <td>[eat, dinner, guy]</td>\n",
       "    </tr>\n",
       "    <tr>\n",
       "      <th>530154</th>\n",
       "      <td>0</td>\n",
       "      <td>@queenofpr Its no problem. Give me a call when...</td>\n",
       "      <td>121</td>\n",
       "      <td>[problem, give, call, get, chance, way, sorry,...</td>\n",
       "    </tr>\n",
       "    <tr>\n",
       "      <th>373575</th>\n",
       "      <td>0</td>\n",
       "      <td>My little boo is sick</td>\n",
       "      <td>22</td>\n",
       "      <td>[little, boo, sick]</td>\n",
       "    </tr>\n",
       "    <tr>\n",
       "      <th>866790</th>\n",
       "      <td>4</td>\n",
       "      <td>2 hours of jogging ... cant feel my legs ... b...</td>\n",
       "      <td>65</td>\n",
       "      <td>[2, hour, jogging, cant, feel, leg, dam, feel,...</td>\n",
       "    </tr>\n",
       "  </tbody>\n",
       "</table>\n",
       "</div>"
      ],
      "text/plain": [
       "         target                                               text  text_len  \\\n",
       "1454731       4  @luckeyme Thanks Tim - it's pretty similar to ...        94   \n",
       "993437        4                             eat you DINNER guys..         22   \n",
       "530154        0  @queenofpr Its no problem. Give me a call when...       121   \n",
       "373575        0                             My little boo is sick         22   \n",
       "866790        4  2 hours of jogging ... cant feel my legs ... b...        65   \n",
       "\n",
       "                                            tokenized_text  \n",
       "1454731   [thanks, tim, pretty, similar, looking, started]  \n",
       "993437                                  [eat, dinner, guy]  \n",
       "530154   [problem, give, call, get, chance, way, sorry,...  \n",
       "373575                                 [little, boo, sick]  \n",
       "866790   [2, hour, jogging, cant, feel, leg, dam, feel,...  "
      ]
     },
     "execution_count": 90,
     "metadata": {},
     "output_type": "execute_result"
    }
   ],
   "source": [
    "df_test.head()"
   ]
  },
  {
   "cell_type": "code",
   "execution_count": 46,
   "id": "777c5ff7",
   "metadata": {},
   "outputs": [
    {
     "data": {
      "text/plain": [
       "<AxesSubplot:xlabel='tokenized_text', ylabel='Count'>"
      ]
     },
     "execution_count": 46,
     "metadata": {},
     "output_type": "execute_result"
    },
    {
     "data": {
      "image/png": "[encoded data removed]",
      "text/plain": [
       "<Figure size 432x288 with 1 Axes>"
      ]
     },
     "metadata": {
      "needs_background": "light"
     },
     "output_type": "display_data"
    }
   ],
   "source": [
    "sns.histplot(data = df['tokenized_text'].apply(len), bins = 30)"
   ]
  },
  {
   "cell_type": "code",
   "execution_count": 47,
   "id": "7b52dce9",
   "metadata": {},
   "outputs": [],
   "source": [
    "word_dict = {}"
   ]
  },
  {
   "cell_type": "code",
   "execution_count": 48,
   "id": "780785d6",
   "metadata": {},
   "outputs": [],
   "source": [
    "for i in df['tokenized_text']:\n",
    "    for word in i:\n",
    "        if word in word_dict:\n",
    "            word_dict[word] += 1\n",
    "        else:\n",
    "            word_dict[word] = 1  "
   ]
  },
  {
   "cell_type": "code",
   "execution_count": 49,
   "id": "0da3a702",
   "metadata": {},
   "outputs": [],
   "source": [
    "words_ordered = sorted(word_dict.items(), key=lambda x: x[1], reverse=True)"
   ]
  },
  {
   "cell_type": "code",
   "execution_count": 50,
   "id": "94e9fca5",
   "metadata": {},
   "outputs": [
    {
     "data": {
      "text/plain": [
       "39161"
      ]
     },
     "execution_count": 50,
     "metadata": {},
     "output_type": "execute_result"
    }
   ],
   "source": [
    "len(word_dict)"
   ]
  },
  {
   "cell_type": "code",
   "execution_count": 51,
   "id": "2dcf177d",
   "metadata": {},
   "outputs": [],
   "source": [
    "def get_occurances(num = 20):\n",
    "    x_vals = []\n",
    "    y_vals = []\n",
    "    for i in enumerate(words_ordered):\n",
    "        val = i[0]\n",
    "        words = i[1]\n",
    "        x_vals.append(words[0])\n",
    "        y_vals.append(words[1])\n",
    "        if (val == num):\n",
    "            return x_vals, y_vals"
   ]
  },
  {
   "cell_type": "code",
   "execution_count": 52,
   "id": "6c72456b",
   "metadata": {},
   "outputs": [],
   "source": [
    "occur_20 = get_occurances()"
   ]
  },
  {
   "cell_type": "code",
   "execution_count": 53,
   "id": "797f2d22",
   "metadata": {},
   "outputs": [
    {
     "data": {
      "image/png": "[encoded data removed]",
      "text/plain": [
       "<Figure size 432x288 with 1 Axes>"
      ]
     },
     "metadata": {
      "needs_background": "light"
     },
     "output_type": "display_data"
    }
   ],
   "source": [
    "#Most common words\n",
    "ax = sns.barplot(x = occur_20[0], y = occur_20[1])\n",
    "ax = ax.set_xticklabels(ax.get_xticklabels(),rotation = 80)"
   ]
  },
  {
   "cell_type": "code",
   "execution_count": 54,
   "id": "9b02c047",
   "metadata": {},
   "outputs": [],
   "source": [
    "most_ocurring = get_occurances(num=800)"
   ]
  },
  {
   "cell_type": "code",
   "execution_count": 55,
   "id": "402b5658",
   "metadata": {},
   "outputs": [
    {
     "data": {
      "text/plain": [
       "78"
      ]
     },
     "execution_count": 55,
     "metadata": {},
     "output_type": "execute_result"
    }
   ],
   "source": [
    "most_ocurring[1][800]"
   ]
  },
  {
   "cell_type": "code",
   "execution_count": 56,
   "id": "6185dea6",
   "metadata": {},
   "outputs": [],
   "source": [
    "tokenized_tweet = df['tokenized_text']"
   ]
  },
  {
   "cell_type": "code",
   "execution_count": 57,
   "id": "8f1fc87a",
   "metadata": {},
   "outputs": [
    {
     "data": {
      "text/plain": [
       "1307018                            [outhouse, used, purpose]\n",
       "1004419                                  [curry, best, ever]\n",
       "788888     [morning, think, gmail, abandoned, sm, text, m...\n",
       "963563     [good, morning, definitely, foundation, build,...\n",
       "191483     [dear, twitter, world, taco, nacho, good, soun...\n",
       "                                 ...                        \n",
       "160466     [well, got, home, tmw, 530p, comcast, right, d...\n",
       "35081      [grrr, couldnt, henry, school, today, sooooo, ...\n",
       "1069630                                   [hey, back, going]\n",
       "1217564                                                   []\n",
       "17483      [seriously, trip, going, planned, wanna, fun, ...\n",
       "Name: tokenized_text, Length: 60000, dtype: object"
      ]
     },
     "execution_count": 57,
     "metadata": {},
     "output_type": "execute_result"
    }
   ],
   "source": [
    "tokenized_tweet"
   ]
  },
  {
   "cell_type": "code",
   "execution_count": 60,
   "id": "679058de",
   "metadata": {},
   "outputs": [
    {
     "ename": "NameError",
     "evalue": "name 'data' is not defined",
     "output_type": "error",
     "traceback": [
      "\u001b[0;31m---------------------------------------------------------------------------\u001b[0m",
      "\u001b[0;31mNameError\u001b[0m                                 Traceback (most recent call last)",
      "\u001b[0;32m<ipython-input-60-72c77aa4e26b>\u001b[0m in \u001b[0;36m<module>\u001b[0;34m\u001b[0m\n\u001b[0;32m----> 1\u001b[0;31m \u001b[0mX\u001b[0m\u001b[0;34m=\u001b[0m\u001b[0mdata\u001b[0m\u001b[0;34m.\u001b[0m\u001b[0mtext\u001b[0m\u001b[0;34m\u001b[0m\u001b[0;34m\u001b[0m\u001b[0m\n\u001b[0m\u001b[1;32m      2\u001b[0m \u001b[0my\u001b[0m\u001b[0;34m=\u001b[0m\u001b[0mdata\u001b[0m\u001b[0;34m.\u001b[0m\u001b[0mtarget\u001b[0m\u001b[0;34m\u001b[0m\u001b[0;34m\u001b[0m\u001b[0m\n",
      "\u001b[0;31mNameError\u001b[0m: name 'data' is not defined"
     ]
    }
   ],
   "source": [
    "X=df.text\n",
    "y=df.target"
   ]
  },
  {
   "cell_type": "code",
   "execution_count": 91,
   "id": "48e2e7a8",
   "metadata": {},
   "outputs": [],
   "source": [
    "X_train=df.text\n",
    "Y_train =df.target\n",
    "X_test = df_test.text\n",
    "Y_test = df_test.target\n"
   ]
  },
  {
   "cell_type": "code",
   "execution_count": 92,
   "id": "0155eba5",
   "metadata": {},
   "outputs": [
    {
     "name": "stdout",
     "output_type": "stream",
     "text": [
      "No. of feature_words:  388394\n"
     ]
    },
    {
     "name": "stderr",
     "output_type": "stream",
     "text": [
      "/Users/kunalkapur/opt/anaconda3/lib/python3.8/site-packages/sklearn/utils/deprecation.py:87: FutureWarning: Function get_feature_names is deprecated; get_feature_names is deprecated in 1.0 and will be removed in 1.2. Please use get_feature_names_out instead.\n",
      "  warnings.warn(msg, category=FutureWarning)\n"
     ]
    }
   ],
   "source": [
    "vectoriser = TfidfVectorizer(ngram_range=(1,2), max_features=500000)\n",
    "vectoriser.fit(X)\n",
    "print('No. of feature_words: ', len(vectoriser.get_feature_names()))"
   ]
  },
  {
   "cell_type": "code",
   "execution_count": 93,
   "id": "a1e4f4e3",
   "metadata": {},
   "outputs": [],
   "source": [
    "X_train = vectoriser.transform(X_train)\n",
    "X_test  = vectoriser.transform(X_test)"
   ]
  },
  {
   "cell_type": "code",
   "execution_count": 94,
   "id": "5b1aee33",
   "metadata": {},
   "outputs": [
    {
     "name": "stdout",
     "output_type": "stream",
     "text": [
      "              precision    recall  f1-score   support\n",
      "\n",
      "           0       0.76      0.79      0.78     14994\n",
      "           4       0.78      0.76      0.77     15006\n",
      "\n",
      "    accuracy                           0.77     30000\n",
      "   macro avg       0.77      0.77      0.77     30000\n",
      "weighted avg       0.77      0.77      0.77     30000\n",
      "\n"
     ]
    },
    {
     "data": {
      "image/png": "[encoded data removed]",
      "text/plain": [
       "<Figure size 432x288 with 2 Axes>"
      ]
     },
     "metadata": {
      "needs_background": "light"
     },
     "output_type": "display_data"
    }
   ],
   "source": [
    "BNBmodel = BernoulliNB()\n",
    "BNBmodel.fit(X_train, Y_train)\n",
    "model_Evaluate(BNBmodel)\n",
    "y_pred1 = BNBmodel.predict(X_test)"
   ]
  },
  {
   "cell_type": "code",
   "execution_count": 111,
   "id": "e154fa70",
   "metadata": {},
   "outputs": [
    {
     "name": "stdout",
     "output_type": "stream",
     "text": [
      "              precision    recall  f1-score   support\n",
      "\n",
      "           0       0.76      0.79      0.78     14994\n",
      "           4       0.78      0.76      0.77     15006\n",
      "\n",
      "    accuracy                           0.77     30000\n",
      "   macro avg       0.77      0.77      0.77     30000\n",
      "weighted avg       0.77      0.77      0.77     30000\n",
      "\n"
     ]
    },
    {
     "data": {
      "image/png": "[encoded data removed]",
      "text/plain": [
       "<Figure size 432x288 with 2 Axes>"
      ]
     },
     "metadata": {
      "needs_background": "light"
     },
     "output_type": "display_data"
    }
   ],
   "source": [
    "BNBmodel = BernoulliNB()\n",
    "BNBmodel.fit(X_train, Y_train)\n",
    "model_Evaluate(BNBmodel)\n",
    "y_pred1 = BNBmodel.predict(X_test)"
   ]
  },
  {
   "cell_type": "code",
   "execution_count": 115,
   "id": "25f156d7",
   "metadata": {},
   "outputs": [],
   "source": [
    "df_test['pred'] = y_pred1"
   ]
  },
  {
   "cell_type": "code",
   "execution_count": 116,
   "id": "50cdbb5c",
   "metadata": {},
   "outputs": [],
   "source": [
    "df_test['val'] = df_test['pred'] == df_test['target']"
   ]
  },
  {
   "cell_type": "code",
   "execution_count": 119,
   "id": "30fbe87c",
   "metadata": {},
   "outputs": [
    {
     "data": {
      "text/html": [
       "<div>\n",
       "<style scoped>\n",
       "    .dataframe tbody tr th:only-of-type {\n",
       "        vertical-align: middle;\n",
       "    }\n",
       "\n",
       "    .dataframe tbody tr th {\n",
       "        vertical-align: top;\n",
       "    }\n",
       "\n",
       "    .dataframe thead th {\n",
       "        text-align: right;\n",
       "    }\n",
       "</style>\n",
       "<table border=\"1\" class=\"dataframe\">\n",
       "  <thead>\n",
       "    <tr style=\"text-align: right;\">\n",
       "      <th></th>\n",
       "      <th>target</th>\n",
       "      <th>text</th>\n",
       "      <th>text_len</th>\n",
       "      <th>tokenized_text</th>\n",
       "      <th>pred</th>\n",
       "      <th>val</th>\n",
       "    </tr>\n",
       "  </thead>\n",
       "  <tbody>\n",
       "    <tr>\n",
       "      <th>1454731</th>\n",
       "      <td>4</td>\n",
       "      <td>@luckeyme Thanks Tim - it's pretty similar to ...</td>\n",
       "      <td>94</td>\n",
       "      <td>[thanks, tim, pretty, similar, looking, started]</td>\n",
       "      <td>4</td>\n",
       "      <td>True</td>\n",
       "    </tr>\n",
       "    <tr>\n",
       "      <th>993437</th>\n",
       "      <td>4</td>\n",
       "      <td>eat you DINNER guys..</td>\n",
       "      <td>22</td>\n",
       "      <td>[eat, dinner, guy]</td>\n",
       "      <td>4</td>\n",
       "      <td>True</td>\n",
       "    </tr>\n",
       "    <tr>\n",
       "      <th>530154</th>\n",
       "      <td>0</td>\n",
       "      <td>@queenofpr Its no problem. Give me a call when...</td>\n",
       "      <td>121</td>\n",
       "      <td>[problem, give, call, get, chance, way, sorry,...</td>\n",
       "      <td>0</td>\n",
       "      <td>True</td>\n",
       "    </tr>\n",
       "    <tr>\n",
       "      <th>373575</th>\n",
       "      <td>0</td>\n",
       "      <td>My little boo is sick</td>\n",
       "      <td>22</td>\n",
       "      <td>[little, boo, sick]</td>\n",
       "      <td>0</td>\n",
       "      <td>True</td>\n",
       "    </tr>\n",
       "    <tr>\n",
       "      <th>866790</th>\n",
       "      <td>4</td>\n",
       "      <td>2 hours of jogging ... cant feel my legs ... b...</td>\n",
       "      <td>65</td>\n",
       "      <td>[2, hour, jogging, cant, feel, leg, dam, feel,...</td>\n",
       "      <td>0</td>\n",
       "      <td>False</td>\n",
       "    </tr>\n",
       "  </tbody>\n",
       "</table>\n",
       "</div>"
      ],
      "text/plain": [
       "         target                                               text  text_len  \\\n",
       "1454731       4  @luckeyme Thanks Tim - it's pretty similar to ...        94   \n",
       "993437        4                             eat you DINNER guys..         22   \n",
       "530154        0  @queenofpr Its no problem. Give me a call when...       121   \n",
       "373575        0                             My little boo is sick         22   \n",
       "866790        4  2 hours of jogging ... cant feel my legs ... b...        65   \n",
       "\n",
       "                                            tokenized_text  pred    val  \n",
       "1454731   [thanks, tim, pretty, similar, looking, started]     4   True  \n",
       "993437                                  [eat, dinner, guy]     4   True  \n",
       "530154   [problem, give, call, get, chance, way, sorry,...     0   True  \n",
       "373575                                 [little, boo, sick]     0   True  \n",
       "866790   [2, hour, jogging, cant, feel, leg, dam, feel,...     0  False  "
      ]
     },
     "execution_count": 119,
     "metadata": {},
     "output_type": "execute_result"
    }
   ],
   "source": [
    "df_test.head()"
   ]
  },
  {
   "cell_type": "code",
   "execution_count": 123,
   "id": "af6fd061",
   "metadata": {},
   "outputs": [
    {
     "data": {
      "text/plain": [
       "True     23180\n",
       "False     6820\n",
       "Name: val, dtype: int64"
      ]
     },
     "execution_count": 123,
     "metadata": {},
     "output_type": "execute_result"
    }
   ],
   "source": [
    "df_test['val'].value_counts()"
   ]
  },
  {
   "cell_type": "code",
   "execution_count": null,
   "id": "8d7b7ff5",
   "metadata": {},
   "outputs": [],
   "source": []
  }
 ],
 "metadata": {
  "kernelspec": {
   "display_name": "Python 3",
   "language": "python",
   "name": "python3"
  },
  "language_info": {
   "codemirror_mode": {
    "name": "ipython",
    "version": 3
   },
   "file_extension": ".py",
   "mimetype": "text/x-python",
   "name": "python",
   "nbconvert_exporter": "python",
   "pygments_lexer": "ipython3",
   "version": "3.8.8"
  }
 },
 "nbformat": 4,
 "nbformat_minor": 5
}
