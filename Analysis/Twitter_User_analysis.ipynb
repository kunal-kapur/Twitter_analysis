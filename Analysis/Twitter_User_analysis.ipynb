{
 "cells": [
  {
   "cell_type": "code",
   "execution_count": 1,
   "id": "e60fd07b",
   "metadata": {},
   "outputs": [],
   "source": [
    "import requests\n",
    "import os\n",
    "import json\n",
    "import tweepy\n",
    "from datetime import date, timedelta\n",
    "import traceback\n",
    "import numpy as np # linear algebra\n",
    "import pandas as pd # data processing\n",
    "\n",
    "import sklearn\n",
    "from sklearn.model_selection import train_test_split\n",
    "    \n",
    "# Libraries and packages for NLP\n",
    "import nltk\n",
    "import os\n",
    "import sys\n",
    "import warnings\n",
    "\n"
   ]
  },
  {
   "cell_type": "code",
   "execution_count": 2,
   "id": "e58ef181",
   "metadata": {},
   "outputs": [
    {
     "ename": "FileNotFoundError",
     "evalue": "[Errno 2] No such file or directory: '.gitignore'",
     "output_type": "error",
     "traceback": [
      "\u001b[0;31m---------------------------------------------------------------------------\u001b[0m",
      "\u001b[0;31mFileNotFoundError\u001b[0m                         Traceback (most recent call last)",
      "\u001b[0;32m<ipython-input-2-769131addc98>\u001b[0m in \u001b[0;36m<module>\u001b[0;34m\u001b[0m\n\u001b[0;32m----> 1\u001b[0;31m \u001b[0mfile\u001b[0m \u001b[0;34m=\u001b[0m \u001b[0mopen\u001b[0m\u001b[0;34m(\u001b[0m\u001b[0;34m'.gitignore'\u001b[0m\u001b[0;34m)\u001b[0m\u001b[0;34m\u001b[0m\u001b[0;34m\u001b[0m\u001b[0m\n\u001b[0m\u001b[1;32m      2\u001b[0m \u001b[0mlines\u001b[0m \u001b[0;34m=\u001b[0m \u001b[0mfile\u001b[0m\u001b[0;34m.\u001b[0m\u001b[0mreadlines\u001b[0m\u001b[0;34m(\u001b[0m\u001b[0;34m)\u001b[0m\u001b[0;34m\u001b[0m\u001b[0;34m\u001b[0m\u001b[0m\n\u001b[1;32m      3\u001b[0m \u001b[0mprint\u001b[0m\u001b[0;34m(\u001b[0m\u001b[0mlines\u001b[0m\u001b[0;34m)\u001b[0m\u001b[0;34m\u001b[0m\u001b[0;34m\u001b[0m\u001b[0m\n\u001b[1;32m      4\u001b[0m \u001b[0melems\u001b[0m \u001b[0;34m=\u001b[0m \u001b[0;34m[\u001b[0m\u001b[0;34m]\u001b[0m\u001b[0;34m\u001b[0m\u001b[0;34m\u001b[0m\u001b[0m\n\u001b[1;32m      5\u001b[0m \u001b[0;32mfor\u001b[0m \u001b[0mi\u001b[0m \u001b[0;32min\u001b[0m \u001b[0mlines\u001b[0m\u001b[0;34m:\u001b[0m\u001b[0;34m\u001b[0m\u001b[0;34m\u001b[0m\u001b[0m\n",
      "\u001b[0;31mFileNotFoundError\u001b[0m: [Errno 2] No such file or directory: '.gitignore'"
     ]
    }
   ],
   "source": [
    "file = open('.gitignore')\n",
    "lines = file.readlines()\n",
    "print(lines)\n",
    "elems = []\n",
    "for i in lines:\n",
    "    index = i.find(\"\\n\")\n",
    "    i = i[0:index]\n",
    "    elems.append(i)\n"
   ]
  },
  {
   "cell_type": "code",
   "execution_count": null,
   "id": "f434a19f",
   "metadata": {},
   "outputs": [],
   "source": []
  },
  {
   "cell_type": "code",
   "execution_count": 28,
   "id": "ea1f78d5",
   "metadata": {},
   "outputs": [
    {
     "name": "stdout",
     "output_type": "stream",
     "text": [
      "<tweepy.client.Client object at 0x7fc8d004d460>\n"
     ]
    }
   ],
   "source": [
    "#auth = tweepy.OAuth2UserHandler(\n",
    "#   elems[0], elems[1], elems[2], elems[3]\n",
    "#)\n",
    "client = tweepy.Client(elems[4])\n",
    "\n",
    "print(client)\n"
   ]
  },
  {
   "cell_type": "code",
   "execution_count": 29,
   "id": "785218ad",
   "metadata": {},
   "outputs": [
    {
     "name": "stdout",
     "output_type": "stream",
     "text": [
      "2022-05-17\n"
     ]
    }
   ],
   "source": [
    "today = date.today()\n",
    "print(today)"
   ]
  },
  {
   "cell_type": "code",
   "execution_count": 167,
   "id": "62f41853",
   "metadata": {},
   "outputs": [],
   "source": [
    "#for tweet in tweepy.Paginator(client.search_recent_tweets, \"Tweepy\",\n",
    "                               # max_results=100).flatten(limit=250):\n",
    "   # print(tweet.id)"
   ]
  },
  {
   "cell_type": "markdown",
   "id": "5bb2779a",
   "metadata": {},
   "source": [
    "This shows an example of the use of pagination tokens in order to navigate through several pages"
   ]
  },
  {
   "cell_type": "code",
   "execution_count": 96,
   "id": "d1810966",
   "metadata": {},
   "outputs": [
    {
     "name": "stdout",
     "output_type": "stream",
     "text": [
      "Response(data=None, includes={}, errors=[], meta={'next_token': '7140dibdnow9c7btw421e7i31tlxsy0mfkfdsn0rkga47', 'result_count': 0}) \n",
      "\n",
      "Response(data=[<Tweet id=1526623665093238786 text='Help us trend #SLOPPYJOE!\\n\\n@elonmusk \\n@ElonMuskNewsOrg \\n#doge #dogecoin #DogecoinToTheMoon \\n\\nI LOVE YOU AMERICA!'>, <Tweet id=1526623658877169664 text=\"@pnjaban @elonmusk that's me in a nutshell, except I'm not a bot\">, <Tweet id=1526623658411794435 text='@Paul_Drake_PI @elonmusk @Geoclew @johnrich Not sure if I’m supposed to be scared or turned on right now. I think maybe a bit of both?'>, <Tweet id=1526623654578200578 text=\"@newsmax @elonmusk Congratulations!  He's as stupid as you are.  Doesn't that make you feel all tingly?\">, <Tweet id=1526623650446729217 text='@elonmusk Just go look at Biden or Justin Trudeau followers. 70% bots. You’ll actually get addicted to clicking on them and seeing 0 followers'>, <Tweet id=1526623650387898368 text='@elonmusk GFX designer 75 years experience dm me sweetie'>, <Tweet id=1526623649913921536 text='@larryolart @elonmusk @EvaFoxU @SECGov Bullshit. Ask the bots to select all the boats and shit. You got this @elonmusk 😎'>], includes={}, errors=[], meta={'next_token': '7140dibdnow9c7btw421e7i31tlxshm267mhu084qulo6', 'previous_token': '77qpymm88g5h9vqklurcun0fstqxnhn994vevtcj81dti', 'result_count': 7, 'newest_id': '1526623665093238786', 'oldest_id': '1526623649913921536'})\n",
      "\n",
      "\n",
      "Response(data=[<Tweet id=1526623648932630528 text=\"The world would look very different if @elonmusk had taken his mom's advice\\nhttps://t.co/nhIgDcKimC\">, <Tweet id=1526623648869761030 text='Reckon @elonmusk ain’t going to like this news https://t.co/z7OUzo6anE'>, <Tweet id=1526623648341282828 text='@chrisdorsey @KobeissiLetter @elonmusk He literally WAIVED due diligence. Worst businessman in the world - and Mars too! lol'>, <Tweet id=1526623647858819077 text='@DonaldJTrumpJr @elonmusk You need to read Marx and revolutionise your life—but first read about the \"Paris Commune\" early 1800s to contextualise, the life of the Bourgeoisie and poor Proletariats...when you realise Marx was a humanist then look at Lenin/Trotsky who came from Ukraine 😜'>, <Tweet id=1526623647414177792 text='@cb_doge @elonmusk 🤣😂🤣😂'>, <Tweet id=1526623643089915907 text=\"@sll_777 @elonmusk That's not how math works. He could have given everyone $5, not $5,000,000,000. $5b to everyone would be $40 QUINTILLION. The entire planet isn't worth that much. Even if it were, all that money would be worth nothing due to instant inflation.\">, <Tweet id=1526623641693483008 text='@elonmusk Fake human beings 🤣'>, <Tweet id=1526623640107814915 text=\"@elonmusk dunno, it's hard to distinguish an NPC from an actual bot\">, <Tweet id=1526623639906717696 text='@HuobiGlobal @elonmusk ✔️'>, <Tweet id=1526623638228717570 text='@elonmusk Lmao no'>], includes={}, errors=[], meta={'previous_token': '77qpymm88g5h9vqklurcun0fstqxn1a7hytenwa3aac6w', 'result_count': 10, 'newest_id': '1526623648932630528', 'oldest_id': '1526623638228717570', 'next_token': '7140dibdnow9c7btw421e7i31tlxsc4enl6tlfx2d44z4'})\n"
     ]
    }
   ],
   "source": [
    "query = 'elonmusk'\n",
    "user_id = client.get_user(username = query).data.id\n",
    "first = client.get_users_mentions(id = user_id)\n",
    "print(first,\"\\n\")\n",
    "nextT = (first.meta['next_token'])\n",
    "second = (client.get_users_mentions(id = user_id,pagination_token = nextT))\n",
    "print(second)\n",
    "nextT = (second.meta['next_token'])\n",
    "print(\"\\n\")\n",
    "print(client.get_users_mentions(id = user_id,pagination_token = nextT))"
   ]
  },
  {
   "cell_type": "code",
   "execution_count": 68,
   "id": "6fab89d7",
   "metadata": {},
   "outputs": [],
   "source": [
    "user_tweets = []"
   ]
  },
  {
   "cell_type": "code",
   "execution_count": 145,
   "id": "c5c5a753",
   "metadata": {},
   "outputs": [],
   "source": [
    "def str_time(days_ago):\n",
    "    today = date.today()\n",
    "    curr_day = today - timedelta(days=days_ago)\n",
    "    return str(curr_day) + 'T00:00:00Z'"
   ]
  },
  {
   "cell_type": "code",
   "execution_count": 146,
   "id": "5d33fb1d",
   "metadata": {},
   "outputs": [],
   "source": [
    "def extract_tweets(tweets):\n",
    "    tweet_list = []\n",
    "    #print(tweets,\"\\n\")\n",
    "    for i in tweets:\n",
    "        tweet_list.append(i.text)\n",
    "    return tweet_list"
   ]
  },
  {
   "cell_type": "code",
   "execution_count": 147,
   "id": "48aac6b8",
   "metadata": {},
   "outputs": [],
   "source": [
    "def aggregate_tweets(user_name, days=0):\n",
    "    tweet_list = []\n",
    "    first = True\n",
    "    user_id = client.get_user(username = user_name).data.id\n",
    "    count = 0\n",
    "    print(user_id)\n",
    "    next_token = \"\"\n",
    "    found_token = False\n",
    "    tot = 0\n",
    "    while count<10:\n",
    "       \n",
    "        try:\n",
    "            if (found_token == False):\n",
    "                response = (client.get_users_mentions(id = user_id,max_results=5))\n",
    "               \n",
    "                next_token = response.meta['next_token']\n",
    "                found_token = True\n",
    "                tot += 1\n",
    "                continue\n",
    "            else:\n",
    "   \n",
    "                response_tweets = client.get_users_mentions(id = user_id,max_results=5,pagination_token = next_token)\n",
    "                if (response_tweets.data == None):\n",
    "                    tot+= 1\n",
    "                    continue\n",
    "                \n",
    "                next_token = response_tweets.meta['next_token']\n",
    "                tweet_list += extract_tweets(client.get_users_mentions(id = user_id,max_results=5,pagination_token = next_token)[0])\n",
    "            count += 1\n",
    "            \n",
    "        except:\n",
    "            traceback.print_exc()\n",
    "            break\n",
    "    print(tot)\n",
    "    return tweet_list\n",
    "                \n",
    "        \n"
   ]
  },
  {
   "cell_type": "code",
   "execution_count": 148,
   "id": "306ae1a4",
   "metadata": {},
   "outputs": [
    {
     "name": "stdout",
     "output_type": "stream",
     "text": [
      "44196397\n",
      "4\n"
     ]
    }
   ],
   "source": [
    "user_list = aggregate_tweets('elonmusk')"
   ]
  },
  {
   "cell_type": "code",
   "execution_count": 150,
   "id": "05f81a6e",
   "metadata": {},
   "outputs": [
    {
     "data": {
      "text/plain": [
       "[\"@catturd2 @elonmusk I'm guessing my days are numbered, sigh\",\n",
       " '@stablekwon #Save #LunaTerra \\nWe are the supporters of the original Luna currency Take care of our protest\\nOtherwise, we will continue to protest in international forums We are united with #LUNA\\n@terra_money \\n@stablekwon \\n@stablechen \\n@cz_binance\\n@elonmusk\\n@VitalikButerin\\n#LUNAUSDT https://t.co/mwAlFIu9hb',\n",
       " '@James93166501 @cherly_u_jest @whhhhaa69 @hoodieibro @elonmusk Lol yeah poor people are just stupid that’s their problem.',\n",
       " '@HootyOwlz77 @cb_doge @elonmusk https://t.co/WW9TmyLKv1',\n",
       " '@elonmusk If you’re gonna complain this much why offer to buy it. Why not just make your own perfect versions of a social media app.',\n",
       " '@legacy_sol @CamoChameleonC @GreatGoatsNFT Need this @elonmusk @garyvee @nftjakey',\n",
       " '@mahcmit @NukeItDaddy @TheRealPlanC @elonmusk https://t.co/WN1rO5jGTi',\n",
       " '@RizzleDizzle21 @elonmusk @cb_doge He never said that was what he believed 😂',\n",
       " '@elonmusk Which one of me are you talking to?',\n",
       " '@elonmusk @AMC_Apee @EvaFoxU @SECGov @FBI @NewYorkFBI the @SECGov and it’s director @GaryGensler are purposely allowing daily crime of synthetic shares and dark pools  as they are corrupt. DO SOMETHING! #amc #gme',\n",
       " '@astoriacub7 @CommieGIR @JonMora2023 @Phender @elonmusk @PPathole @Twitter 66 million bots 😂😂😂😂😂😂😂😂',\n",
       " '@fraggelcurris @Kristennetten @elonmusk @paraga @MyDogeTips @fraggelcurris 6.9',\n",
       " '@JusticeForEmma @S3XYDOG3VAD3R @kennethray25 @DogeAccept @TheWizardOfDoge @Michael04665246 @BurgerKingCAN @Im_in_Crypto @MyDogeTip @pangeranxnyamat @spamiejunk @ZillaDoge @Fierce_Skit @meta_rach @TheDogeBird @sparkles_rae @MyDogeCTO @topherAlba26 @thigpen_y @McDonalds @SlimJim @dogecoin @MikeTyson @elonmusk @McDonaldsCorp @ErikStolhanske @BurgerKing https://t.co/bt5OVyO9cH',\n",
       " '@elonmusk @EvaFoxU @SECGov I believe you want @SEC_Enforcement.  They should check $TSLA books at the same time.',\n",
       " '@elonmusk ish this tweet.🤬',\n",
       " '@HootyOwlz77 @cb_doge @elonmusk So you are a gay dude shaming someone for its appearance and expect respect to the LGBTQ community?',\n",
       " \"@elonmusk @cb_doge Elon, save your money and invest in Truth Social or another free speech platform that needs help growing. If you leave Twitter, it will go Splatter. You're the one keeping it alive imo\",\n",
       " '@elonmusk \\U0001faf6🏾\\U0001fae0👉🏾🖤🛸🚀',\n",
       " '@Oluomoofderby Orin yin daru \\n@elonmusk self no fit buy Dress wey wort $794k ahahahhaha fear God',\n",
       " '@elonmusk No way.  Real humans with a brain and independent thinking are banned or regularly in twitter jail, the rest are sheep and bots and NPC on this virtual reality',\n",
       " '@dumontprice @garyvee We def don’t care lol got like 500followers in 20 years on Twitter and @Twitter denied my trademark rights to own the @ Shoota handle … this will all change once @elonmusk is shown that missing 5%..',\n",
       " \"@AnnafiWahed @elonmusk @johnrich It's almost as if submitting truthful/accurate SEC filings matters ...\",\n",
       " '@Peoples_Pundit @elonmusk Musk does not currently own or run Twitter',\n",
       " '@elonmusk there are a lot of fake accounts on twitter that belong to the same person',\n",
       " '@lcga369 @elonmusk @Timcast  was right about Twitter https://t.co/oEe6VbYvVA',\n",
       " '@GerberKawasaki @elonmusk Daily MACD lowest in $TSLA history. You buying? https://t.co/3ehTGF9usi',\n",
       " \"@SRuhle @elonmusk They are a publically traded company.  Shouldn't they be able and required to do so?\",\n",
       " '@stablekwon We are the supporters of the original #Luna currency\\nTake care of our protest\\nOtherwise, we will continue to protest in international forums\\nWe are united with #Luna\\n\\n@terra_money \\n@stablekwon \\n@stablechen \\n@cz_binance\\n@elonmusk\\n@VitalikButerin\\n#LUNAUSDT \\n#lunacoin https://t.co/Q7A8eeOPV4',\n",
       " '@JusticeForEmma @John_Inubook @S3XYDOG3VAD3R @kennethray25 @DogeAccept @TheWizardOfDoge @Michael04665246 @BurgerKingCAN @Im_in_Crypto @MyDogeTip @pangeranxnyamat @spamiejunk @ZillaDoge @Fierce_Skit @meta_rach @sparkles_rae @MyDogeCTO @topherAlba26 @thigpen_y @McDonalds @SlimJim @dogecoin @MikeTyson @elonmusk @McDonaldsCorp @ErikStolhanske @BurgerKing Must be nice to tip bot :)',\n",
       " '@trevormwills @elonmusk feels to me the last couple days that twitter is scrambling to take down those bots with the spotlight on them',\n",
       " '@elonmusk @johnrich Twitter thought they were safe fudging numbers. Who could BUY Twitter lol',\n",
       " '@elonmusk Can you talk about terra LUNA and make the price go up PLEASE!??',\n",
       " '@ItsThatGuy330 @elonmusk Bot/Troll, same thing, brainwashed.',\n",
       " '@cb_doge @elonmusk There is a technical solution',\n",
       " '@realMeetKevin @elonmusk https://t.co/43I5uYJets',\n",
       " '@saintmorpheus @elonmusk https://t.co/T3KPnnLliZ',\n",
       " '@elonmusk Here’s a use case for twitter’s algorithm: don’t sweat the IBM fellows that have passed their use by date. Coding from the 70’s until they’re in their 70’s has taken its toll. Just because one has “oo” in their surname doesn’t mean they have tweet sense. Could be tweet nonsense',\n",
       " '@elonmusk Your Fake News...',\n",
       " '@elonmusk \\nBetween you and Jeff, you guys may actually help save the country from total destruction. \\nThanks for taking the stand!',\n",
       " '@elonmusk wait until the workers that tried to unionize @Tesla see this https://t.co/4BxeujqAa4',\n",
       " '@GmeImmortan @elonmusk @paraga He’s launching his own platform, but not before he let’s everyone know that Twitter is such an infested bot show that he wouldn’t touch it.',\n",
       " '@Newsweek @elonmusk Voting is a private thing.',\n",
       " '@GerberKawasaki @realMeetKevin @elonmusk \"Climate activist\" 😂😂😂🤡',\n",
       " '@elonmusk Yes',\n",
       " '@elonmusk Oops they did it again. https://t.co/SM7LBrnlJD',\n",
       " '@elonmusk Fake',\n",
       " '@varsi_appel @dawn_sickles @PowWowChowder @MrWells2022 @AJM1521 @vprl2008 @dnp4 @BannedNice @elonmusk @pfizer https://t.co/C1bZB50cX8',\n",
       " '@cybermetaverse1 @greg16676935420 @elonmusk @EvaFoxU @SECGov Finally. someone else looked with their special eyes and saw greg is a bot 😂',\n",
       " '@NicoleBehnam @elonmusk',\n",
       " '@Tomy_Rohde @Jameson_es @JeremyClarkson @elonmusk @rosalia @joaquinarte Sabes que va a ser un Pasquali, no un Fendt https://t.co/M8gOJS48HS']"
      ]
     },
     "execution_count": 150,
     "metadata": {},
     "output_type": "execute_result"
    }
   ],
   "source": [
    "user_list"
   ]
  },
  {
   "cell_type": "code",
   "execution_count": 209,
   "id": "f7dcd1fd",
   "metadata": {},
   "outputs": [
    {
     "data": {
      "text/plain": [
       "50"
      ]
     },
     "execution_count": 209,
     "metadata": {},
     "output_type": "execute_result"
    }
   ],
   "source": [
    "len(user_list)"
   ]
  },
  {
   "cell_type": "markdown",
   "id": "8e3cfc58",
   "metadata": {},
   "source": [
    "Taken from this notebook \n",
    "https://github.com/towardsNLP/IMDB-Semantic-Sentiment-Analysis "
   ]
  },
  {
   "cell_type": "code",
   "execution_count": 210,
   "id": "ba36cc88",
   "metadata": {},
   "outputs": [
    {
     "name": "stdout",
     "output_type": "stream",
     "text": [
      "['NOTlike', 'movie', 'NOTamusing', 'visually', 'interesting', 'NOTrecommend']\n"
     ]
    }
   ],
   "source": [
    "tokenizer = Tokenizer(clean= True,\n",
    "                      lower= True, \n",
    "                      de_noise= True, \n",
    "                      remove_stop_words= True,\n",
    "                      keep_negation=True)\n",
    "\n",
    "# Example statement\n",
    "statement = \"I didn't like this movie. It wasn't amusing nor visually interesting . I do not recommend it.\"\n",
    "print(tokenizer.tokenize(statement))"
   ]
  },
  {
   "cell_type": "code",
   "execution_count": 211,
   "id": "06126e9c",
   "metadata": {},
   "outputs": [],
   "source": [
    "df = pd.DataFrame(user_list,\n",
    "                  columns = ['tweet']) "
   ]
  },
  {
   "cell_type": "code",
   "execution_count": 213,
   "id": "a41b5d7d",
   "metadata": {},
   "outputs": [
    {
     "name": "stderr",
     "output_type": "stream",
     "text": [
      "<ipython-input-213-0891b765a168>:1: FutureWarning: Passing a negative integer is deprecated in version 1.0 and will not be supported in future version. Instead, use None to not limit the column width.\n",
      "  pd.set_option('display.max_colwidth', -1)\n"
     ]
    }
   ],
   "source": [
    "pd.set_option('display.max_colwidth', -1)"
   ]
  },
  {
   "cell_type": "code",
   "execution_count": 215,
   "id": "bd0b970c",
   "metadata": {},
   "outputs": [
    {
     "data": {
      "text/html": [
       "<div>\n",
       "<style scoped>\n",
       "    .dataframe tbody tr th:only-of-type {\n",
       "        vertical-align: middle;\n",
       "    }\n",
       "\n",
       "    .dataframe tbody tr th {\n",
       "        vertical-align: top;\n",
       "    }\n",
       "\n",
       "    .dataframe thead th {\n",
       "        text-align: right;\n",
       "    }\n",
       "</style>\n",
       "<table border=\"1\" class=\"dataframe\">\n",
       "  <thead>\n",
       "    <tr style=\"text-align: right;\">\n",
       "      <th></th>\n",
       "      <th>tweet</th>\n",
       "    </tr>\n",
       "  </thead>\n",
       "  <tbody>\n",
       "    <tr>\n",
       "      <th>0</th>\n",
       "      <td>@catturd2 @elonmusk I'm guessing my days are numbered, sigh</td>\n",
       "    </tr>\n",
       "    <tr>\n",
       "      <th>1</th>\n",
       "      <td>@stablekwon #Save #LunaTerra \\nWe are the supporters of the original Luna currency Take care of our protest\\nOtherwise, we will continue to protest in international forums We are united with #LUNA\\n@terra_money \\n@stablekwon \\n@stablechen \\n@cz_binance\\n@elonmusk\\n@VitalikButerin\\n#LUNAUSDT https://t.co/mwAlFIu9hb</td>\n",
       "    </tr>\n",
       "    <tr>\n",
       "      <th>2</th>\n",
       "      <td>@James93166501 @cherly_u_jest @whhhhaa69 @hoodieibro @elonmusk Lol yeah poor people are just stupid that’s their problem.</td>\n",
       "    </tr>\n",
       "    <tr>\n",
       "      <th>3</th>\n",
       "      <td>@HootyOwlz77 @cb_doge @elonmusk https://t.co/WW9TmyLKv1</td>\n",
       "    </tr>\n",
       "    <tr>\n",
       "      <th>4</th>\n",
       "      <td>@elonmusk If you’re gonna complain this much why offer to buy it. Why not just make your own perfect versions of a social media app.</td>\n",
       "    </tr>\n",
       "  </tbody>\n",
       "</table>\n",
       "</div>"
      ],
      "text/plain": [
       "                                                                                                                                                                                                                                                                                                                         tweet\n",
       "0  @catturd2 @elonmusk I'm guessing my days are numbered, sigh                                                                                                                                                                                                                                                                \n",
       "1  @stablekwon #Save #LunaTerra \\nWe are the supporters of the original Luna currency Take care of our protest\\nOtherwise, we will continue to protest in international forums We are united with #LUNA\\n@terra_money \\n@stablekwon \\n@stablechen \\n@cz_binance\\n@elonmusk\\n@VitalikButerin\\n#LUNAUSDT https://t.co/mwAlFIu9hb\n",
       "2  @James93166501 @cherly_u_jest @whhhhaa69 @hoodieibro @elonmusk Lol yeah poor people are just stupid that’s their problem.                                                                                                                                                                                                  \n",
       "3  @HootyOwlz77 @cb_doge @elonmusk https://t.co/WW9TmyLKv1                                                                                                                                                                                                                                                                    \n",
       "4  @elonmusk If you’re gonna complain this much why offer to buy it. Why not just make your own perfect versions of a social media app.                                                                                                                                                                                       "
      ]
     },
     "execution_count": 215,
     "metadata": {},
     "output_type": "execute_result"
    }
   ],
   "source": [
    "df.head()"
   ]
  },
  {
   "cell_type": "code",
   "execution_count": 216,
   "id": "d2293717",
   "metadata": {},
   "outputs": [],
   "source": [
    "def remove_tags(tweet):\n",
    "    tweet_words = tweet.split()\n",
    "    new_words = \"\"\n",
    "    for i in tweet_words:\n",
    "        if \"@\" not in i:\n",
    "            new_words += i + \" \"\n",
    "    return new_words[0:len(new_words) - 1]\n",
    "            \n",
    "        \n"
   ]
  },
  {
   "cell_type": "code",
   "execution_count": 217,
   "id": "4f915c9b",
   "metadata": {},
   "outputs": [],
   "source": [
    "df['tweet'] = df['tweet'].apply(remove_tags)"
   ]
  },
  {
   "cell_type": "code",
   "execution_count": 218,
   "id": "acf7e1b3",
   "metadata": {},
   "outputs": [
    {
     "data": {
      "text/plain": [
       "count    50.000000\n",
       "mean    -inf      \n",
       "std     NaN       \n",
       "min     -inf      \n",
       "25%      0.693147 \n",
       "50%      1.386294 \n",
       "75%      2.197225 \n",
       "max      3.178054 \n",
       "Name: tokenized_text_len, dtype: float64"
      ]
     },
     "execution_count": 218,
     "metadata": {},
     "output_type": "execute_result"
    }
   ],
   "source": [
    "# Tokenize reviews\n",
    "df['tokenized_text'] = df['tweet'].apply(tokenizer.tokenize)\n",
    "\n",
    "df['tokenized_text_len'] = df['tokenized_text'].apply(len)\n",
    "df['tokenized_text_len'].apply(np.log).describe()"
   ]
  },
  {
   "cell_type": "code",
   "execution_count": 225,
   "id": "75cc39f1",
   "metadata": {},
   "outputs": [
    {
     "data": {
      "text/html": [
       "<div>\n",
       "<style scoped>\n",
       "    .dataframe tbody tr th:only-of-type {\n",
       "        vertical-align: middle;\n",
       "    }\n",
       "\n",
       "    .dataframe tbody tr th {\n",
       "        vertical-align: top;\n",
       "    }\n",
       "\n",
       "    .dataframe thead th {\n",
       "        text-align: right;\n",
       "    }\n",
       "</style>\n",
       "<table border=\"1\" class=\"dataframe\">\n",
       "  <thead>\n",
       "    <tr style=\"text-align: right;\">\n",
       "      <th></th>\n",
       "      <th>tweet</th>\n",
       "      <th>tokenized_text</th>\n",
       "      <th>tokenized_text_len</th>\n",
       "    </tr>\n",
       "  </thead>\n",
       "  <tbody>\n",
       "    <tr>\n",
       "      <th>0</th>\n",
       "      <td>I'm guessing my ...</td>\n",
       "      <td>[guessing, days,...</td>\n",
       "      <td>4</td>\n",
       "    </tr>\n",
       "    <tr>\n",
       "      <th>1</th>\n",
       "      <td>#Save #LunaTerra...</td>\n",
       "      <td>[save, lunaterra...</td>\n",
       "      <td>17</td>\n",
       "    </tr>\n",
       "    <tr>\n",
       "      <th>2</th>\n",
       "      <td>Lol yeah poor pe...</td>\n",
       "      <td>[lol, yeah, poor...</td>\n",
       "      <td>6</td>\n",
       "    </tr>\n",
       "    <tr>\n",
       "      <th>3</th>\n",
       "      <td>https://t.co/WW9...</td>\n",
       "      <td>[]</td>\n",
       "      <td>0</td>\n",
       "    </tr>\n",
       "    <tr>\n",
       "      <th>4</th>\n",
       "      <td>If you’re gonna ...</td>\n",
       "      <td>[gonna, complain...</td>\n",
       "      <td>12</td>\n",
       "    </tr>\n",
       "  </tbody>\n",
       "</table>\n",
       "</div>"
      ],
      "text/plain": [
       "                 tweet       tokenized_text  tokenized_text_len\n",
       "0  I'm guessing my ...  [guessing, days,...                   4\n",
       "1  #Save #LunaTerra...  [save, lunaterra...                  17\n",
       "2  Lol yeah poor pe...  [lol, yeah, poor...                   6\n",
       "3  https://t.co/WW9...                   []                   0\n",
       "4  If you’re gonna ...  [gonna, complain...                  12"
      ]
     },
     "execution_count": 225,
     "metadata": {},
     "output_type": "execute_result"
    }
   ],
   "source": [
    "df.head()"
   ]
  },
  {
   "cell_type": "code",
   "execution_count": 224,
   "id": "bd377a76",
   "metadata": {},
   "outputs": [],
   "source": [
    "pd.set_option('display.max_colwidth', 20)"
   ]
  },
  {
   "cell_type": "code",
   "execution_count": 192,
   "id": "95e36aa8",
   "metadata": {},
   "outputs": [],
   "source": [
    "df['tokenized_text'] = df['tokenized_text'].apply(remove_tags)"
   ]
  },
  {
   "cell_type": "code",
   "execution_count": 208,
   "id": "72de1fee",
   "metadata": {},
   "outputs": [
    {
     "name": "stdout",
     "output_type": "stream",
     "text": [
      "['save', 'lunaterra', 'supporters', 'original', 'luna', 'currency', 'take', 'care', 'protest', 'otherwise', 'continue', 'protest', 'international', 'forums', 'united', 'luna', 'lunausdt']\n"
     ]
    }
   ],
   "source": [
    "print(df.iloc[1,1])"
   ]
  },
  {
   "cell_type": "code",
   "execution_count": null,
   "id": "35c56a51",
   "metadata": {},
   "outputs": [],
   "source": []
  },
  {
   "cell_type": "code",
   "execution_count": null,
   "id": "7ad48116",
   "metadata": {
    "scrolled": true
   },
   "outputs": [],
   "source": []
  },
  {
   "cell_type": "code",
   "execution_count": null,
   "id": "0992d3cf",
   "metadata": {},
   "outputs": [],
   "source": []
  },
  {
   "cell_type": "code",
   "execution_count": null,
   "id": "8e22a3cb",
   "metadata": {},
   "outputs": [],
   "source": []
  },
  {
   "cell_type": "code",
   "execution_count": null,
   "id": "30513537",
   "metadata": {},
   "outputs": [],
   "source": []
  },
  {
   "cell_type": "code",
   "execution_count": null,
   "id": "0fb2fec5",
   "metadata": {},
   "outputs": [],
   "source": []
  },
  {
   "cell_type": "code",
   "execution_count": null,
   "id": "7a395aac",
   "metadata": {},
   "outputs": [],
   "source": []
  },
  {
   "cell_type": "code",
   "execution_count": null,
   "id": "4e832912",
   "metadata": {},
   "outputs": [],
   "source": []
  },
  {
   "cell_type": "code",
   "execution_count": null,
   "id": "314617f3",
   "metadata": {},
   "outputs": [],
   "source": []
  }
 ],
 "metadata": {
  "kernelspec": {
   "display_name": "Python 3",
   "language": "python",
   "name": "python3"
  },
  "language_info": {
   "codemirror_mode": {
    "name": "ipython",
    "version": 3
   },
   "file_extension": ".py",
   "mimetype": "text/x-python",
   "name": "python",
   "nbconvert_exporter": "python",
   "pygments_lexer": "ipython3",
   "version": "3.8.8"
  }
 },
 "nbformat": 4,
 "nbformat_minor": 5
}
