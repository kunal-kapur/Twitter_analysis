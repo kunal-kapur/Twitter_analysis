{
 "cells": [
  {
   "cell_type": "code",
   "execution_count": 1,
   "id": "e60fd07b",
   "metadata": {},
   "outputs": [],
   "source": [
    "import requests\n",
    "import os\n",
    "import json\n",
    "import tweepy\n",
    "from datetime import date, timedelta\n",
    "\n"
   ]
  },
  {
   "cell_type": "code",
   "execution_count": 2,
   "id": "e58ef181",
   "metadata": {},
   "outputs": [
    {
     "name": "stdout",
     "output_type": "stream",
     "text": [
      "['vwpbtXD41nbXy0a4LyfjkezGH\\n', 'h3znpwSqDSFTfxafMHL3Hr5v9XhWdD8yK7OUIa1IA6nMHn4h2J\\n', '1475951833663225859-mAXpRnfQieSAsXZGVV4wmmwDjV6tGB\\n', 'YQz1i91VPv8KVGHRhqQiqg0C8jxqfvx6Y0FlGEBMeUI5P\\n', 'AAAAAAAAAAAAAAAAAAAAADgZXgEAAAAAYRdetju0C0zv176dkiqu5%2BlpYWw%3DMOIe2zNFoB40Vvu2uaLn75AApNzni7OH5hKxRz4peG5uG9A7cT\\n']\n",
      "['vwpbtXD41nbXy0a4LyfjkezGH', 'h3znpwSqDSFTfxafMHL3Hr5v9XhWdD8yK7OUIa1IA6nMHn4h2J', '1475951833663225859-mAXpRnfQieSAsXZGVV4wmmwDjV6tGB', 'YQz1i91VPv8KVGHRhqQiqg0C8jxqfvx6Y0FlGEBMeUI5P', 'AAAAAAAAAAAAAAAAAAAAADgZXgEAAAAAYRdetju0C0zv176dkiqu5%2BlpYWw%3DMOIe2zNFoB40Vvu2uaLn75AApNzni7OH5hKxRz4peG5uG9A7cT']\n"
     ]
    }
   ],
   "source": [
    "file = open('.gitignore')\n",
    "lines = file.readlines()\n",
    "print(lines)\n",
    "elems = []\n",
    "for i in lines:\n",
    "    index = i.find(\"\\n\")\n",
    "    i = i[0:index]\n",
    "    elems.append(i)\n",
    "print(elems)\n",
    "elems[0] = 'wasdsfda'\n",
    "#print(consumer_key)"
   ]
  },
  {
   "cell_type": "code",
   "execution_count": 62,
   "id": "ea1f78d5",
   "metadata": {},
   "outputs": [
    {
     "name": "stdout",
     "output_type": "stream",
     "text": [
      "<tweepy.client.Client object at 0x7fd6900e46d0>\n"
     ]
    }
   ],
   "source": [
    "#auth = tweepy.OAuth2UserHandler(elems[4])\n",
    "client = tweepy.Client(elems[4])\n",
    "print(api)\n"
   ]
  },
  {
   "cell_type": "code",
   "execution_count": 118,
   "id": "1ac7104e",
   "metadata": {},
   "outputs": [
    {
     "name": "stdout",
     "output_type": "stream",
     "text": [
      "2022-05-16\n"
     ]
    }
   ],
   "source": [
    "today = date.today()\n",
    "print(today)"
   ]
  },
  {
   "cell_type": "code",
   "execution_count": 137,
   "id": "f6df2fbd",
   "metadata": {},
   "outputs": [
    {
     "name": "stdout",
     "output_type": "stream",
     "text": [
      "2022-05-16\n",
      "2022-05-15\n"
     ]
    }
   ],
   "source": [
    "query = 'from:elonmusk'\n",
    "#start_time = (today) + 'T00:00:00Z'\n",
    "#start_time = today\n",
    "print(start_time)\n",
    "days_ago = timedelta(days=1)\n",
    "print(start_time - days_ago)\n"
   ]
  },
  {
   "cell_type": "code",
   "execution_count": 141,
   "id": "b7f2f51d",
   "metadata": {},
   "outputs": [],
   "source": [
    "tweets = []"
   ]
  },
  {
   "cell_type": "code",
   "execution_count": 142,
   "id": "1e26b9c0",
   "metadata": {},
   "outputs": [],
   "source": [
    "def str_time(days_ago):\n",
    "    today = date.today()\n",
    "    curr_day = today - timedelta(days=days_ago)\n",
    "    return str(curr_day) + 'T00:00:00Z'"
   ]
  },
  {
   "cell_type": "code",
   "execution_count": 143,
   "id": "32072e0b",
   "metadata": {},
   "outputs": [],
   "source": [
    "def extract_tweet(tweets):\n",
    "    tweet_list = []\n",
    "    for i in tweets:\n",
    "        tweet_list.append(i.text)\n",
    "    return tweet_list"
   ]
  },
  {
   "cell_type": "code",
   "execution_count": 146,
   "id": "38494467",
   "metadata": {},
   "outputs": [],
   "source": [
    "def aggregate_tweets(user_name, days=5):\n",
    "    today = date.today()\n",
    "    start_time = date.today()\n",
    "    tweet_list = client.search_recent_tweets(query=query,max_results =100,start_time = start_time)[0]\n",
    "    end_time = start_time\n",
    "    for i in range(1,days): \n",
    "        start_time = str_time(i)\n",
    "        print(start_time,end_time)\n",
    "        #tweet_list = client.search_recent_tweets(query=query,max_results =100,start_time = start_time)[0]\n",
    "        #tweets.append()"
   ]
  },
  {
   "cell_type": "code",
   "execution_count": 139,
   "id": "7b5ea11b",
   "metadata": {},
   "outputs": [],
   "source": [
    "for i in range(1,20):\n",
    "    days_ago = timedelta(days=i)\n",
    "    time = start_time - days_ago\n",
    "    time = str(time) + 'T00:00:00Z'\n",
    "    tweet_list = client.search_recent_tweets(query=query,max_results =100,start_time = start_time)[0]\n",
    "    tweets.append()"
   ]
  },
  {
   "cell_type": "code",
   "execution_count": 131,
   "id": "acf7e1b3",
   "metadata": {},
   "outputs": [
    {
     "name": "stdout",
     "output_type": "stream",
     "text": [
      "8\n"
     ]
    }
   ],
   "source": [
    "first_100_tweets = client.search_recent_tweets(query=query,max_results =100,start_time = start_time)[0]\n",
    "#print(first_100_tweets)\n",
    "#last_tweet = first_100_tweets[99]\n",
    "print(len(first_100_tweets))"
   ]
  },
  {
   "cell_type": "code",
   "execution_count": 140,
   "id": "a9fc41f4",
   "metadata": {},
   "outputs": [
    {
     "name": "stdout",
     "output_type": "stream",
     "text": [
      "[<Tweet id=1526250477456965634 text='@paraga So how do advertisers know what they’re getting for their money? This is fundamental to the financial health of Twitter.'>, <Tweet id=1526246899606601730 text='@paraga 💩'>, <Tweet id=1526246627685572610 text='@paraga Have you tried just calling them?'>, <Tweet id=1526227844078215170 text='@BillyM2k Billy is the best'>, <Tweet id=1526222775555436545 text='@alanagoodman I wonder who funds them'>, <Tweet id=1526219375514091520 text='@SPKolten @heyitsyashu I don’t have much choice. Provided they don’t explicitly say that I endorse something, there is no legal recourse.'>, <Tweet id=1526218871811760129 text='@jokowi It was an honor to meet at Starbase and discuss exciting future projects!'>, <Tweet id=1526217516292489216 text='@heyitsyashu I hope it’s a good product!'>]\n"
     ]
    }
   ],
   "source": [
    "print(first_100_tweets)"
   ]
  },
  {
   "cell_type": "code",
   "execution_count": 112,
   "id": "7ad48116",
   "metadata": {
    "scrolled": true
   },
   "outputs": [
    {
     "data": {
      "text/plain": [
       "Response(data=<Tweet id=1523716880028303360 text='@waitbutwhy And we’re all descended from a skinny shrew! Meet your grandparents^n: https://t.co/kiMiwStcJa'>, includes={}, errors=[], meta={})"
      ]
     },
     "execution_count": 112,
     "metadata": {},
     "output_type": "execute_result"
    }
   ],
   "source": [
    "client.get_tweet(id = last_tweet.id)"
   ]
  },
  {
   "cell_type": "code",
   "execution_count": 44,
   "id": "0992d3cf",
   "metadata": {},
   "outputs": [],
   "source": []
  },
  {
   "cell_type": "code",
   "execution_count": 43,
   "id": "8e22a3cb",
   "metadata": {},
   "outputs": [
    {
     "name": "stdout",
     "output_type": "stream",
     "text": [
      "200\n",
      "{\n",
      "    \"data\": [\n",
      "        {\n",
      "            \"author_id\": \"2244994945\",\n",
      "            \"id\": \"1278747501642657792\",\n",
      "            \"lang\": \"en\",\n",
      "            \"text\": \"It's been a year since Twitter's Developer Labs launched.\\n\\nAs we build towards the next generation of the #TwitterAPI (coming VERY soon), see what we've learned and changed along the way. https://t.co/WvjuEWCa6G\"\n",
      "        },\n",
      "        {\n",
      "            \"author_id\": \"2244994945\",\n",
      "            \"id\": \"1255542774432063488\",\n",
      "            \"lang\": \"en\",\n",
      "            \"text\": \"During these unprecedented times, what\\u2019s happening on Twitter can help the world better understand &amp; respond to the pandemic. \\n\\nWe're launching a free COVID-19 stream endpoint so qualified devs &amp; researchers can study the public conversation in real-time. https://t.co/BPqMcQzhId\"\n",
      "        }\n",
      "    ]\n",
      "}\n"
     ]
    }
   ],
   "source": []
  },
  {
   "cell_type": "code",
   "execution_count": null,
   "id": "30513537",
   "metadata": {},
   "outputs": [],
   "source": []
  },
  {
   "cell_type": "code",
   "execution_count": 30,
   "id": "0fb2fec5",
   "metadata": {},
   "outputs": [],
   "source": []
  },
  {
   "cell_type": "code",
   "execution_count": 33,
   "id": "7a395aac",
   "metadata": {},
   "outputs": [
    {
     "name": "stdout",
     "output_type": "stream",
     "text": [
      "https://api.twitter.com/2/users/by?usernames=elonmusk&user.fields=description,created_at\n"
     ]
    }
   ],
   "source": []
  },
  {
   "cell_type": "code",
   "execution_count": 34,
   "id": "4e832912",
   "metadata": {},
   "outputs": [
    {
     "ename": "SyntaxError",
     "evalue": "invalid syntax (<ipython-input-34-4502f2234c65>, line 1)",
     "output_type": "error",
     "traceback": [
      "\u001b[0;36m  File \u001b[0;32m\"<ipython-input-34-4502f2234c65>\"\u001b[0;36m, line \u001b[0;32m1\u001b[0m\n\u001b[0;31m    curl https://api.twitter.com/2/users/2244994945 -H \"Authorization: Bearer $ACCESS_TOKEN\"\u001b[0m\n\u001b[0m         ^\u001b[0m\n\u001b[0;31mSyntaxError\u001b[0m\u001b[0;31m:\u001b[0m invalid syntax\n"
     ]
    }
   ],
   "source": []
  },
  {
   "cell_type": "code",
   "execution_count": null,
   "id": "314617f3",
   "metadata": {},
   "outputs": [],
   "source": []
  }
 ],
 "metadata": {
  "kernelspec": {
   "display_name": "Python 3",
   "language": "python",
   "name": "python3"
  },
  "language_info": {
   "codemirror_mode": {
    "name": "ipython",
    "version": 3
   },
   "file_extension": ".py",
   "mimetype": "text/x-python",
   "name": "python",
   "nbconvert_exporter": "python",
   "pygments_lexer": "ipython3",
   "version": "3.8.8"
  }
 },
 "nbformat": 4,
 "nbformat_minor": 5
}
