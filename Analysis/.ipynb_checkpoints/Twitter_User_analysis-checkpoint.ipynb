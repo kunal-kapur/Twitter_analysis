{
 "cells": [
  {
   "cell_type": "code",
   "execution_count": 1,
   "id": "e60fd07b",
   "metadata": {},
   "outputs": [],
   "source": [
    "import requests\n",
    "import os\n",
    "import json\n",
    "import tweepy\n",
    "from datetime import date, timedelta\n",
    "import traceback\n",
    "import numpy as np # linear algebra\n",
    "import pandas as pd # data processing\n",
    "\n",
    "import sklearn\n",
    "from sklearn.model_selection import train_test_split\n",
    "    \n",
    "# Libraries and packages for NLP\n",
    "import nltk\n",
    "import os\n",
    "import sys\n",
    "import warnings\n",
    "\n"
   ]
  },
  {
   "cell_type": "code",
   "execution_count": 4,
   "id": "e58ef181",
   "metadata": {},
   "outputs": [],
   "source": [
    "file = open('../.gitignore')\n",
    "lines = file.readlines()\n",
    "#print(lines)\n",
    "elems = []\n",
    "for i in lines:\n",
    "    index = i.find(\"\\n\")\n",
    "    i = i[0:index]\n",
    "    elems.append(i)\n"
   ]
  },
  {
   "cell_type": "code",
   "execution_count": null,
   "id": "f434a19f",
   "metadata": {},
   "outputs": [],
   "source": []
  },
  {
   "cell_type": "code",
   "execution_count": 6,
   "id": "ea1f78d5",
   "metadata": {},
   "outputs": [
    {
     "name": "stdout",
     "output_type": "stream",
     "text": [
      "<tweepy.client.Client object at 0x7f77d8eccb80>\n"
     ]
    }
   ],
   "source": [
    "#auth = tweepy.OAuth2UserHandler(\n",
    "#   elems[0], elems[1], elems[2], elems[3]\n",
    "#)\n",
    "client = tweepy.Client(elems[0])\n",
    "\n",
    "print(client)\n"
   ]
  },
  {
   "cell_type": "code",
   "execution_count": 7,
   "id": "785218ad",
   "metadata": {},
   "outputs": [
    {
     "name": "stdout",
     "output_type": "stream",
     "text": [
      "2022-05-26\n"
     ]
    }
   ],
   "source": [
    "today = date.today()\n",
    "print(today)"
   ]
  },
  {
   "cell_type": "code",
   "execution_count": 8,
   "id": "62f41853",
   "metadata": {},
   "outputs": [],
   "source": [
    "#for tweet in tweepy.Paginator(client.search_recent_tweets, \"Tweepy\",\n",
    "                               # max_results=100).flatten(limit=250):\n",
    "   # print(tweet.id)"
   ]
  },
  {
   "cell_type": "markdown",
   "id": "5bb2779a",
   "metadata": {},
   "source": [
    "This shows an example of the use of pagination tokens in order to navigate through several pages"
   ]
  },
  {
   "cell_type": "code",
   "execution_count": 9,
   "id": "d1810966",
   "metadata": {},
   "outputs": [
    {
     "name": "stdout",
     "output_type": "stream",
     "text": [
      "Response(data=None, includes={}, errors=[], meta={'next_token': '7140dibdnow9c7btw421t09vjw9zszd005mci6p5o6sz8', 'result_count': 0}) \n",
      "\n",
      "Response(data=[<Tweet id=1530071366753558528 text='@BabieOmma @cuppymusic @Twitter @davido @burnaboy @wizkidayo @mrmacaronii @StatiSense @elonmusk I want'>, <Tweet id=1530071360814333952 text='@elonmusk @blacknoose Ni l’un ni l’autre'>, <Tweet id=1530071357731504128 text='@elonmusk Billionaires use their money to influence politicians, so I say billionaires are the root cause of corruption.'>, <Tweet id=1530071344431382528 text='@MechnicalBeer @elonmusk @AJDelgado13 Except your god given right to bear arms'>, <Tweet id=1530071334432034820 text=\"@elonmusk @wanda_hudson @TomFitton @AJDelgado13 I think better practice,only legal professional licenses can use or buy firearms, gun dealers can't sell to people who don't have any professional licenses, regulations have to be changed so people hand over any guns they shouldn't own, otherwise everything will be illegal\">, <Tweet id=1530071330900480000 text=\"@minusnoise @elonmusk @BLKMDL3 @S3XYstarship @IWill_Travel @AOC stop bullshitting..there's no such thing as working hard at home\">], includes={}, errors=[], meta={'result_count': 6, 'newest_id': '1530071366753558528', 'oldest_id': '1530071330900480000', 'previous_token': '77qpymm88g5h9vqklurd9fs8aweznj0eicezd9f3mwp4n', 'next_token': '7140dibdnow9c7btw421t09vjw9zs7wv64uu868bmd2k0'})\n",
      "\n",
      "\n",
      "Response(data=[<Tweet id=1530071328119992321 text='@elonmusk Did the way of how the press calculates a person\\'s \"worth\" is dumb.  I\\'m disappointed you don\\'t make a bigger deal out of # of shares × current price = worth.  I would black list any financial rag that throws that click bait crap around, they only want to judge and shame.'>, <Tweet id=1530071324663717888 text='@elonmusk Politicians are worst among us . They even amass wealth from the suffering of the people they rule.'>, <Tweet id=1530071318926094336 text='@elonmusk @RahulGandhi Politics is a tool of politicians which gives assurance to their future generations that they may be owls but they will live luxurious life.\\n\\nYou know he does nothing but fight elections, lose, go on long vacations and party with girls.\\n\\nAnd does the same thing over and again🙏 https://t.co/IywJSrtBrt'>, <Tweet id=1530071304899964929 text='@zee0963 @greg16676935420 @elonmusk hahaha😂'>, <Tweet id=1530071304874778624 text='@TheFreedomFest @Chesschick01 @TheBabylonBee @BannedFilmmaker @elonmusk Stay in the echo chamber and your bubble.  The real world is too harsh for you.'>, <Tweet id=1530071302744289281 text=\"@AngelaBelcamino @elonmusk And you think the democrats you voted for Aren't billionaires?\">, <Tweet id=1530071301850812416 text='@Shashie08 @BaShonaBaShona @mhofela_mhofu @mushapps @ShumiraiNyasha6 @FloraRuramai @kshuoikai @Princess_Bell88 @elonmusk So sorry..'>, <Tweet id=1530071294481272833 text='@mattzarb @elonmusk A system that allows you to let spout BS about people who are exponentially better than you without any repercussions is also morally wrong.'>, <Tweet id=1530071283358216192 text='@bneighoff @TheAKGuy @elonmusk He said usualy'>, <Tweet id=1530071279642066944 text='@elonmusk https://t.co/suRt4T4rx5'>], includes={}, errors=[], meta={'result_count': 10, 'newest_id': '1530071328119992321', 'oldest_id': '1530071279642066944', 'next_token': '7140dibdnow9c7btw421t09vjw9ypy28mrl26w3mufj1w', 'previous_token': '77qpymm88g5h9vqklurd9fs8awezmmb1pjn8y2hvv0e29'})\n"
     ]
    }
   ],
   "source": [
    "query = 'elonmusk'\n",
    "user_id = client.get_user(username = query).data.id\n",
    "first = client.get_users_mentions(id = user_id)\n",
    "print(first,\"\\n\")\n",
    "nextT = (first.meta['next_token'])\n",
    "second = (client.get_users_mentions(id = user_id,pagination_token = nextT))\n",
    "print(second)\n",
    "nextT = (second.meta['next_token'])\n",
    "print(\"\\n\")\n",
    "print(client.get_users_mentions(id = user_id,pagination_token = nextT))"
   ]
  },
  {
   "cell_type": "code",
   "execution_count": 10,
   "id": "6fab89d7",
   "metadata": {},
   "outputs": [],
   "source": [
    "user_tweets = []"
   ]
  },
  {
   "cell_type": "code",
   "execution_count": 11,
   "id": "c5c5a753",
   "metadata": {},
   "outputs": [],
   "source": [
    "def str_time(days_ago):\n",
    "    today = date.today()\n",
    "    curr_day = today - timedelta(days=days_ago)\n",
    "    return str(curr_day) + 'T00:00:00Z'"
   ]
  },
  {
   "cell_type": "code",
   "execution_count": 12,
   "id": "5d33fb1d",
   "metadata": {},
   "outputs": [],
   "source": [
    "def extract_tweets(tweets):\n",
    "    tweet_list = []\n",
    "    #print(tweets,\"\\n\")\n",
    "    for i in tweets:\n",
    "        tweet_list.append(i.text)\n",
    "    return tweet_list"
   ]
  },
  {
   "cell_type": "code",
   "execution_count": 13,
   "id": "48aac6b8",
   "metadata": {},
   "outputs": [],
   "source": [
    "def aggregate_tweets(user_name, days=0):\n",
    "    tweet_list = []\n",
    "    first = True\n",
    "    user_id = client.get_user(username = user_name).data.id\n",
    "    count = 0\n",
    "    print(user_id)\n",
    "    next_token = \"\"\n",
    "    found_token = False\n",
    "    tot = 0\n",
    "    while count<10:\n",
    "       \n",
    "        try:\n",
    "            if (found_token == False):\n",
    "                response = (client.get_users_mentions(id = user_id,max_results=5))\n",
    "               \n",
    "                next_token = response.meta['next_token']\n",
    "                found_token = True\n",
    "                tot += 1\n",
    "                continue\n",
    "            else:\n",
    "   \n",
    "                response_tweets = client.get_users_mentions(id = user_id,max_results=5,pagination_token = next_token)\n",
    "                if (response_tweets.data == None):\n",
    "                    tot+= 1\n",
    "                    continue\n",
    "                \n",
    "                next_token = response_tweets.meta['next_token']\n",
    "                tweet_list += extract_tweets(client.get_users_mentions(id = user_id,max_results=5,pagination_token = next_token)[0])\n",
    "            count += 1\n",
    "            \n",
    "        except:\n",
    "            traceback.print_exc()\n",
    "            break\n",
    "    print(tot)\n",
    "    return tweet_list\n",
    "                \n",
    "        \n"
   ]
  },
  {
   "cell_type": "code",
   "execution_count": 14,
   "id": "306ae1a4",
   "metadata": {},
   "outputs": [
    {
     "name": "stdout",
     "output_type": "stream",
     "text": [
      "44196397\n",
      "23\n"
     ]
    }
   ],
   "source": [
    "user_list = aggregate_tweets('elonmusk')"
   ]
  },
  {
   "cell_type": "code",
   "execution_count": 15,
   "id": "05f81a6e",
   "metadata": {},
   "outputs": [
    {
     "data": {
      "text/plain": [
       "['@elonmusk @wanda_hudson @TomFitton @AJDelgado13 For such a smart dude you sure are focusing on treating symptoms vs causes',\n",
       " '@elonmusk Is that how ppl get their way in life?',\n",
       " '@elonmusk Um. Phrasing. Are we not doing phrasing anymore?',\n",
       " '@truth_tesla @GailAlfarATX @RationalEtienne @elonmusk @BLKMDL3 @S3XYstarship @IWill_Travel @AOC Unbelievable',\n",
       " '@MechnicalBeer @elonmusk @AJDelgado13 I hope your civilians are of help if China decides to invade Australia.',\n",
       " \"@elonmusk This is the world's most expensive proposition\",\n",
       " '@BabieOmma @cuppymusic @Twitter @davido @burnaboy @wizkidayo @mrmacaronii @StatiSense @elonmusk I want',\n",
       " '@elonmusk @blacknoose Ni l’un ni l’autre',\n",
       " '@elonmusk Billionaires use their money to influence politicians, so I say billionaires are the root cause of corruption.',\n",
       " '@MechnicalBeer @elonmusk @AJDelgado13 Except your god given right to bear arms',\n",
       " \"@elonmusk @wanda_hudson @TomFitton @AJDelgado13 I think better practice,only legal professional licenses can use or buy firearms, gun dealers can't sell to people who don't have any professional licenses, regulations have to be changed so people hand over any guns they shouldn't own, otherwise everything will be illegal\",\n",
       " \"@minusnoise @elonmusk @BLKMDL3 @S3XYstarship @IWill_Travel @AOC stop bullshitting..there's no such thing as working hard at home\",\n",
       " '@elonmusk Did the way of how the press calculates a person\\'s \"worth\" is dumb.  I\\'m disappointed you don\\'t make a bigger deal out of # of shares × current price = worth.  I would black list any financial rag that throws that click bait crap around, they only want to judge and shame.',\n",
       " '@elonmusk Politicians are worst among us . They even amass wealth from the suffering of the people they rule.',\n",
       " '@elonmusk @RahulGandhi Politics is a tool of politicians which gives assurance to their future generations that they may be owls but they will live luxurious life.\\n\\nYou know he does nothing but fight elections, lose, go on long vacations and party with girls.\\n\\nAnd does the same thing over and again🙏 https://t.co/IywJSrtBrt',\n",
       " '@zee0963 @greg16676935420 @elonmusk hahaha😂',\n",
       " '@TheFreedomFest @Chesschick01 @TheBabylonBee @BannedFilmmaker @elonmusk Stay in the echo chamber and your bubble.  The real world is too harsh for you.',\n",
       " \"@AngelaBelcamino @elonmusk And you think the democrats you voted for Aren't billionaires?\",\n",
       " '@Shashie08 @BaShonaBaShona @mhofela_mhofu @mushapps @ShumiraiNyasha6 @FloraRuramai @kshuoikai @Princess_Bell88 @elonmusk So sorry..',\n",
       " '@mattzarb @elonmusk A system that allows you to let spout BS about people who are exponentially better than you without any repercussions is also morally wrong.',\n",
       " '@bneighoff @TheAKGuy @elonmusk He said usualy',\n",
       " '@elonmusk https://t.co/suRt4T4rx5',\n",
       " '@elonmusk https://t.co/Hkos4WxsMR',\n",
       " '@albert_hubble @m00ph23 @StaceyLE @MrManderly @FedorovMykhailo @SpaceX @elonmusk Not exactly. The drone team, more like the recon teams is using Starlink to communicate with the artillery team.\\n\\nhttps://t.co/9lS5uhO9X3',\n",
       " '(CAD): @reelmckoyproductions\\n#coldcase #tbt #love #like #happy #photography #me #Earth.@elonmusk @NicoleScherzy @ShwetabhJ @kanyewest @AppleTV @RealAndyLeeShow @PierrePoilievre @DonaldJTrumpJr @JackPosobiec #free #hope #Earth @GellertDepp🔥@amberheard',\n",
       " '@lexfridman @elonmusk Social media is depression generator',\n",
       " '@elonmusk Also the resistance to the growth.',\n",
       " '@elonmusk These are the people you are apparently going to be voting for now https://t.co/3f1daJmjpU',\n",
       " '@elonmusk Given the recession, fires, floods, shootings a threat of civil or nuclear WAR. Which one do you see likely happening in the next 8 to 12 months.\\nAlso do you feel safe raising your kids in this country?',\n",
       " '@EvaFoxU @elonmusk I missed a bunch of your memes. Why do they do this',\n",
       " '@SRS91839430 @elonmusk @SawyerMerritt @S3XYstarship @IWill_Travel @AOC So stock will also be considered like a property since you are holding it? Pretty weird.',\n",
       " '@ScottLEOWarrior @Laugh4APurpose @elonmusk done https://t.co/VUNB388GEc',\n",
       " \"@MineCreeperLPs @CJHowell98 @ZBrebis @elonmusk I'm pretty sure skaves don't possess the knowledge to build rockets. And all Mars occupiers will be VOLUNTEERS the literal opposite of slave. Jesus christ\",\n",
       " '@SweetyTarak29 @elonmusk Its not an airport to announce your departure. Get the F off and shut up.',\n",
       " '@elonmusk @wanda_hudson @TomFitton @AJDelgado13 How about just making it fucking impossible for an 18yr old to buy a rifle. What is he defending? Got no house, no car, no property but he gets a rifle to shoot what??',\n",
       " \"@elonmusk AGREED! at IAC they paint big ass boing, boing jets,  like Galaxy Edge for Alaska. my son runs the huge Pentagon program for the Hangers, he's in Materials.  it's a must to be tech-savvy &amp; ride that horse! &amp; not get bucked off either. he's freekin' awesome, it's a huge program. https://t.co/0AIrVavwk1\",\n",
       " '@elonmusk @AJDelgado13 Why do you need an assault rifle??',\n",
       " '@PPathole @elonmusk https://t.co/Aj79Ve5Hg6',\n",
       " \"@ADAM_Oracle @elonmusk @cz_binance @theRealKiyosaki @ADAMoracleCN Strong projects. Come on, friends. Don't miss to participate here right now.\\n\\n@Mubarak085 \\n@yuli050725\\n@setyoharini93\",\n",
       " '@elonmusk You never answer every time I comment.',\n",
       " '@ninaturner @elonmusk And how are billionaires subsidized?',\n",
       " '@rudrabhoj @elonmusk *trust less',\n",
       " '@elonmusk The #fallacy of #dichotomies',\n",
       " '@elonmusk மோடி &amp; அம்பானி அதானி',\n",
       " '@elonmusk Subjective question.\\nIn Bharat (India) we trust Modi ji...\\nIf the question is of USA we trust you more than current politicians of USA🤘',\n",
       " '@user1392550 @JennaEllisEsq @elonmusk https://t.co/Aj79Ve5Hg6',\n",
       " '@GailAlfarATX @RationalEtienne @elonmusk @BLKMDL3 @S3XYstarship @IWill_Travel @AOC ▪️I got \"search banned\" and \"reply deboosted\" too. 😐\\n▪️All my reply tweets are hidden to non-followers as “offensive”, such as this one: https://t.co/KjUmHkn5Si',\n",
       " '@BrooklynNetstan @JimHansonDC @elonmusk @AJDelgado13 Semi-auto rifles are not \"military grade\". Lefties like to poke fun of and remind gun owners of that fact when they accuse them of wanting to start a revolution. And there are indeed other countries where actual military weapons and munitions are available at the market.',\n",
       " '@EddITTIddE @smuschusch @ThomasDiLeva @taytayz3 @KaraJarina @elonmusk @ElohimChildof @keith0sta @yenyen818 @Orwell_2012 @michael81211243 Nah, Xtagon is joking. 🤗\\nWith jam or chocolate? Or too dry.',\n",
       " '@locomocopoc @njshawn @elonmusk @SmileSimplify @AOC What story is that Jose?']"
      ]
     },
     "execution_count": 15,
     "metadata": {},
     "output_type": "execute_result"
    }
   ],
   "source": [
    "user_list"
   ]
  },
  {
   "cell_type": "code",
   "execution_count": 16,
   "id": "f7dcd1fd",
   "metadata": {
    "scrolled": true
   },
   "outputs": [
    {
     "data": {
      "text/plain": [
       "50"
      ]
     },
     "execution_count": 16,
     "metadata": {},
     "output_type": "execute_result"
    }
   ],
   "source": [
    "len(user_list)"
   ]
  }
 ],
 "metadata": {
  "kernelspec": {
   "display_name": "Python 3",
   "language": "python",
   "name": "python3"
  },
  "language_info": {
   "codemirror_mode": {
    "name": "ipython",
    "version": 3
   },
   "file_extension": ".py",
   "mimetype": "text/x-python",
   "name": "python",
   "nbconvert_exporter": "python",
   "pygments_lexer": "ipython3",
   "version": "3.8.8"
  }
 },
 "nbformat": 4,
 "nbformat_minor": 5
}
