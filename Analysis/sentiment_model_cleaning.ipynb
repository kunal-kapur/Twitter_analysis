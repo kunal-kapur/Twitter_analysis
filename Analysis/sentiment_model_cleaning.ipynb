{
 "cells": [
  {
   "cell_type": "markdown",
   "id": "ff341f1f",
   "metadata": {},
   "source": [
    "This model is made for the sntiment analysis"
   ]
  },
  {
   "cell_type": "code",
   "execution_count": 1,
   "id": "932c6bc4",
   "metadata": {},
   "outputs": [],
   "source": [
    "import pandas as pd\n",
    "import nltk\n",
    "from nltk.tokenize import sent_tokenize, word_tokenize\n",
    "from nltk.corpus import stopwords\n",
    "from nltk.tokenize import RegexpTokenizer\n",
    "from nltk.stem import WordNetLemmatizer\n",
    "import seaborn as sns"
   ]
  },
  {
   "cell_type": "code",
   "execution_count": 79,
   "id": "bffec41c",
   "metadata": {},
   "outputs": [
    {
     "name": "stderr",
     "output_type": "stream",
     "text": [
      "[nltk_data] Downloading package punkt to\n",
      "[nltk_data]     /Users/kunalkapur/nltk_data...\n",
      "[nltk_data]   Package punkt is already up-to-date!\n",
      "[nltk_data] Downloading package stopwords to\n",
      "[nltk_data]     /Users/kunalkapur/nltk_data...\n",
      "[nltk_data]   Package stopwords is already up-to-date!\n",
      "[nltk_data] Downloading package omw-1.4 to\n",
      "[nltk_data]     /Users/kunalkapur/nltk_data...\n",
      "[nltk_data]   Package omw-1.4 is already up-to-date!\n",
      "[nltk_data] Downloading package wordnet to\n",
      "[nltk_data]     /Users/kunalkapur/nltk_data...\n",
      "[nltk_data]   Package wordnet is already up-to-date!\n"
     ]
    },
    {
     "data": {
      "text/plain": [
       "True"
      ]
     },
     "execution_count": 79,
     "metadata": {},
     "output_type": "execute_result"
    }
   ],
   "source": [
    "nltk.download('punkt')\n",
    "nltk.download('stopwords')\n",
    "nltk.download('omw-1.4')\n",
    "nltk.download('wordnet')"
   ]
  },
  {
   "cell_type": "code",
   "execution_count": 2,
   "id": "08df4872",
   "metadata": {},
   "outputs": [],
   "source": [
    "lemmatizer = WordNetLemmatizer()"
   ]
  },
  {
   "cell_type": "code",
   "execution_count": 3,
   "id": "b8cc6557",
   "metadata": {},
   "outputs": [],
   "source": [
    "df = pd.read_csv(\"data.csv\")"
   ]
  },
  {
   "cell_type": "code",
   "execution_count": 4,
   "id": "5a7e0f63",
   "metadata": {},
   "outputs": [],
   "source": [
    "df.columns = ['target','id','date','flag','user','text']"
   ]
  },
  {
   "cell_type": "code",
   "execution_count": 5,
   "id": "318c74bd",
   "metadata": {},
   "outputs": [
    {
     "data": {
      "text/html": [
       "<div>\n",
       "<style scoped>\n",
       "    .dataframe tbody tr th:only-of-type {\n",
       "        vertical-align: middle;\n",
       "    }\n",
       "\n",
       "    .dataframe tbody tr th {\n",
       "        vertical-align: top;\n",
       "    }\n",
       "\n",
       "    .dataframe thead th {\n",
       "        text-align: right;\n",
       "    }\n",
       "</style>\n",
       "<table border=\"1\" class=\"dataframe\">\n",
       "  <thead>\n",
       "    <tr style=\"text-align: right;\">\n",
       "      <th></th>\n",
       "      <th>target</th>\n",
       "      <th>id</th>\n",
       "      <th>date</th>\n",
       "      <th>flag</th>\n",
       "      <th>user</th>\n",
       "      <th>text</th>\n",
       "    </tr>\n",
       "  </thead>\n",
       "  <tbody>\n",
       "    <tr>\n",
       "      <th>0</th>\n",
       "      <td>0</td>\n",
       "      <td>1467810672</td>\n",
       "      <td>Mon Apr 06 22:19:49 PDT 2009</td>\n",
       "      <td>NO_QUERY</td>\n",
       "      <td>scotthamilton</td>\n",
       "      <td>is upset that he can't update his Facebook by ...</td>\n",
       "    </tr>\n",
       "    <tr>\n",
       "      <th>1</th>\n",
       "      <td>0</td>\n",
       "      <td>1467810917</td>\n",
       "      <td>Mon Apr 06 22:19:53 PDT 2009</td>\n",
       "      <td>NO_QUERY</td>\n",
       "      <td>mattycus</td>\n",
       "      <td>@Kenichan I dived many times for the ball. Man...</td>\n",
       "    </tr>\n",
       "    <tr>\n",
       "      <th>2</th>\n",
       "      <td>0</td>\n",
       "      <td>1467811184</td>\n",
       "      <td>Mon Apr 06 22:19:57 PDT 2009</td>\n",
       "      <td>NO_QUERY</td>\n",
       "      <td>ElleCTF</td>\n",
       "      <td>my whole body feels itchy and like its on fire</td>\n",
       "    </tr>\n",
       "    <tr>\n",
       "      <th>3</th>\n",
       "      <td>0</td>\n",
       "      <td>1467811193</td>\n",
       "      <td>Mon Apr 06 22:19:57 PDT 2009</td>\n",
       "      <td>NO_QUERY</td>\n",
       "      <td>Karoli</td>\n",
       "      <td>@nationwideclass no, it's not behaving at all....</td>\n",
       "    </tr>\n",
       "    <tr>\n",
       "      <th>4</th>\n",
       "      <td>0</td>\n",
       "      <td>1467811372</td>\n",
       "      <td>Mon Apr 06 22:20:00 PDT 2009</td>\n",
       "      <td>NO_QUERY</td>\n",
       "      <td>joy_wolf</td>\n",
       "      <td>@Kwesidei not the whole crew</td>\n",
       "    </tr>\n",
       "  </tbody>\n",
       "</table>\n",
       "</div>"
      ],
      "text/plain": [
       "   target          id                          date      flag           user  \\\n",
       "0       0  1467810672  Mon Apr 06 22:19:49 PDT 2009  NO_QUERY  scotthamilton   \n",
       "1       0  1467810917  Mon Apr 06 22:19:53 PDT 2009  NO_QUERY       mattycus   \n",
       "2       0  1467811184  Mon Apr 06 22:19:57 PDT 2009  NO_QUERY        ElleCTF   \n",
       "3       0  1467811193  Mon Apr 06 22:19:57 PDT 2009  NO_QUERY         Karoli   \n",
       "4       0  1467811372  Mon Apr 06 22:20:00 PDT 2009  NO_QUERY       joy_wolf   \n",
       "\n",
       "                                                text  \n",
       "0  is upset that he can't update his Facebook by ...  \n",
       "1  @Kenichan I dived many times for the ball. Man...  \n",
       "2    my whole body feels itchy and like its on fire   \n",
       "3  @nationwideclass no, it's not behaving at all....  \n",
       "4                      @Kwesidei not the whole crew   "
      ]
     },
     "execution_count": 5,
     "metadata": {},
     "output_type": "execute_result"
    }
   ],
   "source": [
    "df.head()"
   ]
  },
  {
   "cell_type": "code",
   "execution_count": 6,
   "id": "87fa81ad",
   "metadata": {},
   "outputs": [],
   "source": [
    "df = df.drop(columns =['id','date','flag','user'])"
   ]
  },
  {
   "cell_type": "code",
   "execution_count": 7,
   "id": "0623699c",
   "metadata": {},
   "outputs": [],
   "source": [
    "df['text_len'] = df['text'].apply(lambda x: len(x))"
   ]
  },
  {
   "cell_type": "code",
   "execution_count": 8,
   "id": "2748bbb2",
   "metadata": {},
   "outputs": [
    {
     "data": {
      "text/html": [
       "<div>\n",
       "<style scoped>\n",
       "    .dataframe tbody tr th:only-of-type {\n",
       "        vertical-align: middle;\n",
       "    }\n",
       "\n",
       "    .dataframe tbody tr th {\n",
       "        vertical-align: top;\n",
       "    }\n",
       "\n",
       "    .dataframe thead th {\n",
       "        text-align: right;\n",
       "    }\n",
       "</style>\n",
       "<table border=\"1\" class=\"dataframe\">\n",
       "  <thead>\n",
       "    <tr style=\"text-align: right;\">\n",
       "      <th></th>\n",
       "      <th>target</th>\n",
       "      <th>text</th>\n",
       "      <th>text_len</th>\n",
       "    </tr>\n",
       "  </thead>\n",
       "  <tbody>\n",
       "    <tr>\n",
       "      <th>0</th>\n",
       "      <td>0</td>\n",
       "      <td>is upset that he can't update his Facebook by ...</td>\n",
       "      <td>111</td>\n",
       "    </tr>\n",
       "  </tbody>\n",
       "</table>\n",
       "</div>"
      ],
      "text/plain": [
       "   target                                               text  text_len\n",
       "0       0  is upset that he can't update his Facebook by ...       111"
      ]
     },
     "execution_count": 8,
     "metadata": {},
     "output_type": "execute_result"
    }
   ],
   "source": [
    "df.head(1)"
   ]
  },
  {
   "cell_type": "code",
   "execution_count": 9,
   "id": "9cc99619",
   "metadata": {},
   "outputs": [
    {
     "data": {
      "text/plain": [
       "<AxesSubplot:xlabel='text_len', ylabel='Count'>"
      ]
     },
     "execution_count": 9,
     "metadata": {},
     "output_type": "execute_result"
    },
    {
     "data": {
      "image/png": "[encoded data removed]",
      "text/plain": [
       "<Figure size 432x288 with 1 Axes>"
      ]
     },
     "metadata": {
      "needs_background": "light"
     },
     "output_type": "display_data"
    }
   ],
   "source": [
    "sns.histplot(df['text_len'],bins=50)"
   ]
  },
  {
   "cell_type": "code",
   "execution_count": 10,
   "id": "2d7ae096",
   "metadata": {},
   "outputs": [
    {
     "name": "stdout",
     "output_type": "stream",
     "text": [
      "0    799999\n",
      "4         1\n",
      "Name: target, dtype: int64\n",
      "0    400365\n",
      "4    399635\n",
      "Name: target, dtype: int64\n"
     ]
    }
   ],
   "source": [
    "#DF is in some order so need to randomize it \n",
    "print(df['target'][0:800000].value_counts())\n",
    "df = df.sample(frac=1)\n",
    "print(df['target'][0:800000].value_counts())"
   ]
  },
  {
   "cell_type": "code",
   "execution_count": 11,
   "id": "d9a0c5fe",
   "metadata": {},
   "outputs": [],
   "source": [
    "train_portion = int((2/3) * len(df))\n",
    "df_test = df[train_portion:]\n",
    "df = df[0:train_portion]"
   ]
  },
  {
   "cell_type": "code",
   "execution_count": 12,
   "id": "0da4635e",
   "metadata": {},
   "outputs": [
    {
     "name": "stdout",
     "output_type": "stream",
     "text": [
      "(533333, 3)\n",
      "(1066666, 3)\n"
     ]
    }
   ],
   "source": [
    "print(df_test.shape)\n",
    "print(df.shape)"
   ]
  },
  {
   "cell_type": "code",
   "execution_count": 13,
   "id": "4b14ac31",
   "metadata": {},
   "outputs": [],
   "source": [
    "tokenizer = RegexpTokenizer(r'\\w+')"
   ]
  },
  {
   "cell_type": "code",
   "execution_count": 14,
   "id": "550cedbb",
   "metadata": {},
   "outputs": [],
   "source": [
    "new_words =[\"get\",\"go\",\"quot\",\"going, got\"]"
   ]
  },
  {
   "cell_type": "code",
   "execution_count": 15,
   "id": "91496bc1",
   "metadata": {},
   "outputs": [],
   "source": [
    "def remove_mention(text):\n",
    "    text_split = text.split(\" \")\n",
    "    new_text = \"\"\n",
    "    for i in text_split:\n",
    "        #print(i)\n",
    "        if \"@\" not in i:\n",
    "            new_text += i + \" \"\n",
    "    #print(new_text)\n",
    "    return new_text[0:len(new_text)-1]"
   ]
  },
  {
   "cell_type": "code",
   "execution_count": 16,
   "id": "aab2edf4",
   "metadata": {},
   "outputs": [],
   "source": [
    "def tokenize(text):\n",
    "    text = remove_mention(text)\n",
    "    words = tokenizer.tokenize(text.lower())\n",
    "    filtered = []\n",
    "    for i in words:\n",
    "        if not i in stopwords.words():\n",
    "            filtered.append(i)\n",
    "    for j in range(len(filtered)):\n",
    "        filtered[j] = lemmatizer.lemmatize(filtered[j])\n",
    "    return filtered"
   ]
  },
  {
   "cell_type": "code",
   "execution_count": 17,
   "id": "edc47a81",
   "metadata": {},
   "outputs": [],
   "source": [
    "test_df = df[0:20]"
   ]
  },
  {
   "cell_type": "code",
   "execution_count": 18,
   "id": "263fc2e3",
   "metadata": {},
   "outputs": [
    {
     "name": "stderr",
     "output_type": "stream",
     "text": [
      "<ipython-input-18-944f8d003c27>:1: SettingWithCopyWarning: \n",
      "A value is trying to be set on a copy of a slice from a DataFrame.\n",
      "Try using .loc[row_indexer,col_indexer] = value instead\n",
      "\n",
      "See the caveats in the documentation: https://pandas.pydata.org/pandas-docs/stable/user_guide/indexing.html#returning-a-view-versus-a-copy\n",
      "  test_df['tokenized_text'] = test_df['text'].apply(tokenize)\n"
     ]
    }
   ],
   "source": [
    "test_df['tokenized_text'] = test_df['text'].apply(tokenize)"
   ]
  },
  {
   "cell_type": "code",
   "execution_count": 19,
   "id": "989cb356",
   "metadata": {},
   "outputs": [],
   "source": [
    "pd.set_option('display.max_colwidth', None)"
   ]
  },
  {
   "cell_type": "code",
   "execution_count": 20,
   "id": "c3edcae2",
   "metadata": {},
   "outputs": [
    {
     "data": {
      "text/html": [
       "<div>\n",
       "<style scoped>\n",
       "    .dataframe tbody tr th:only-of-type {\n",
       "        vertical-align: middle;\n",
       "    }\n",
       "\n",
       "    .dataframe tbody tr th {\n",
       "        vertical-align: top;\n",
       "    }\n",
       "\n",
       "    .dataframe thead th {\n",
       "        text-align: right;\n",
       "    }\n",
       "</style>\n",
       "<table border=\"1\" class=\"dataframe\">\n",
       "  <thead>\n",
       "    <tr style=\"text-align: right;\">\n",
       "      <th></th>\n",
       "      <th>target</th>\n",
       "      <th>text</th>\n",
       "      <th>text_len</th>\n",
       "      <th>tokenized_text</th>\n",
       "    </tr>\n",
       "  </thead>\n",
       "  <tbody>\n",
       "    <tr>\n",
       "      <th>771475</th>\n",
       "      <td>0</td>\n",
       "      <td>@Destini41 I want one!! I want one!  have one for me i'm at work</td>\n",
       "      <td>65</td>\n",
       "      <td>[work]</td>\n",
       "    </tr>\n",
       "    <tr>\n",
       "      <th>293717</th>\n",
       "      <td>0</td>\n",
       "      <td>@DjJimmyJams WTF? At 6? That shits already on on my t.v</td>\n",
       "      <td>56</td>\n",
       "      <td>[wtf, 6, shit, already]</td>\n",
       "    </tr>\n",
       "    <tr>\n",
       "      <th>919338</th>\n",
       "      <td>4</td>\n",
       "      <td>@simonusher a bit too early for me and wanting to have nice lunch too... have a good time</td>\n",
       "      <td>90</td>\n",
       "      <td>[bit, early, wanting, nice, lunch, good, time]</td>\n",
       "    </tr>\n",
       "    <tr>\n",
       "      <th>1046926</th>\n",
       "      <td>4</td>\n",
       "      <td>Its a bit cloudy yet but the weatherman promised sunshine. No place nicer than Scotland when the sun shines</td>\n",
       "      <td>108</td>\n",
       "      <td>[bit, cloudy, yet, weatherman, promised, sunshine, place, nicer, scotland, sun, shine]</td>\n",
       "    </tr>\n",
       "    <tr>\n",
       "      <th>1081043</th>\n",
       "      <td>4</td>\n",
       "      <td>but i am one happy girl right now.</td>\n",
       "      <td>37</td>\n",
       "      <td>[happy, girl, right]</td>\n",
       "    </tr>\n",
       "    <tr>\n",
       "      <th>701615</th>\n",
       "      <td>0</td>\n",
       "      <td>errands galore.... and hopefully the beach? if i finish all my stuff.. its 81 and humid finally chicago summer? right as i leave</td>\n",
       "      <td>129</td>\n",
       "      <td>[errand, galore, hopefully, beach, finish, stuff, 81, humid, finally, chicago, summer, right, leave]</td>\n",
       "    </tr>\n",
       "    <tr>\n",
       "      <th>1585188</th>\n",
       "      <td>4</td>\n",
       "      <td>@iamyas yes yes .. its meee  hehe.</td>\n",
       "      <td>34</td>\n",
       "      <td>[yes, yes, meee, hehe]</td>\n",
       "    </tr>\n",
       "    <tr>\n",
       "      <th>980683</th>\n",
       "      <td>4</td>\n",
       "      <td>loves how everyone is up as late as me studying for finals  i feel like a true college student</td>\n",
       "      <td>95</td>\n",
       "      <td>[love, everyone, late, studying, final, feel, like, true, college, student]</td>\n",
       "    </tr>\n",
       "    <tr>\n",
       "      <th>369705</th>\n",
       "      <td>0</td>\n",
       "      <td>@urbanettex2 oh I'm at work  wish I could join you! xx</td>\n",
       "      <td>54</td>\n",
       "      <td>[oh, work, wish, could, join, xx]</td>\n",
       "    </tr>\n",
       "    <tr>\n",
       "      <th>11174</th>\n",
       "      <td>0</td>\n",
       "      <td>Is fed up being on her own..............must be more to life than this shite</td>\n",
       "      <td>78</td>\n",
       "      <td>[fed, must, life, shite]</td>\n",
       "    </tr>\n",
       "  </tbody>\n",
       "</table>\n",
       "</div>"
      ],
      "text/plain": [
       "         target  \\\n",
       "771475        0   \n",
       "293717        0   \n",
       "919338        4   \n",
       "1046926       4   \n",
       "1081043       4   \n",
       "701615        0   \n",
       "1585188       4   \n",
       "980683        4   \n",
       "369705        0   \n",
       "11174         0   \n",
       "\n",
       "                                                                                                                                      text  \\\n",
       "771475                                                                   @Destini41 I want one!! I want one!  have one for me i'm at work    \n",
       "293717                                                                            @DjJimmyJams WTF? At 6? That shits already on on my t.v    \n",
       "919338                                          @simonusher a bit too early for me and wanting to have nice lunch too... have a good time    \n",
       "1046926                       Its a bit cloudy yet but the weatherman promised sunshine. No place nicer than Scotland when the sun shines    \n",
       "1081043                                                                                              but i am one happy girl right now.      \n",
       "701615   errands galore.... and hopefully the beach? if i finish all my stuff.. its 81 and humid finally chicago summer? right as i leave    \n",
       "1585188                                                                                                 @iamyas yes yes .. its meee  hehe.   \n",
       "980683                                     loves how everyone is up as late as me studying for finals  i feel like a true college student    \n",
       "369705                                                                              @urbanettex2 oh I'm at work  wish I could join you! xx   \n",
       "11174                                                       Is fed up being on her own..............must be more to life than this shite     \n",
       "\n",
       "         text_len  \\\n",
       "771475         65   \n",
       "293717         56   \n",
       "919338         90   \n",
       "1046926       108   \n",
       "1081043        37   \n",
       "701615        129   \n",
       "1585188        34   \n",
       "980683         95   \n",
       "369705         54   \n",
       "11174          78   \n",
       "\n",
       "                                                                                               tokenized_text  \n",
       "771475                                                                                                 [work]  \n",
       "293717                                                                                [wtf, 6, shit, already]  \n",
       "919338                                                         [bit, early, wanting, nice, lunch, good, time]  \n",
       "1046926                [bit, cloudy, yet, weatherman, promised, sunshine, place, nicer, scotland, sun, shine]  \n",
       "1081043                                                                                  [happy, girl, right]  \n",
       "701615   [errand, galore, hopefully, beach, finish, stuff, 81, humid, finally, chicago, summer, right, leave]  \n",
       "1585188                                                                                [yes, yes, meee, hehe]  \n",
       "980683                            [love, everyone, late, studying, final, feel, like, true, college, student]  \n",
       "369705                                                                      [oh, work, wish, could, join, xx]  \n",
       "11174                                                                                [fed, must, life, shite]  "
      ]
     },
     "execution_count": 20,
     "metadata": {},
     "output_type": "execute_result"
    }
   ],
   "source": [
    "#Testing dummy df\n",
    "test_df.head(10)"
   ]
  },
  {
   "cell_type": "code",
   "execution_count": 21,
   "id": "e539a80c",
   "metadata": {},
   "outputs": [],
   "source": [
    "pd.set_option('display.max_colwidth', 80)\n",
    "word_dict = {}"
   ]
  },
  {
   "cell_type": "code",
   "execution_count": 24,
   "id": "73017f7e",
   "metadata": {},
   "outputs": [],
   "source": [
    "partitioned_df = df[0:90000]"
   ]
  },
  {
   "cell_type": "code",
   "execution_count": 25,
   "id": "8cbc0e88",
   "metadata": {},
   "outputs": [
    {
     "name": "stderr",
     "output_type": "stream",
     "text": [
      "<ipython-input-25-67e67d3eae31>:1: SettingWithCopyWarning: \n",
      "A value is trying to be set on a copy of a slice from a DataFrame.\n",
      "Try using .loc[row_indexer,col_indexer] = value instead\n",
      "\n",
      "See the caveats in the documentation: https://pandas.pydata.org/pandas-docs/stable/user_guide/indexing.html#returning-a-view-versus-a-copy\n",
      "  partitioned_df['tokenized_text'] = partitioned_df['text'].apply(tokenize)\n"
     ]
    }
   ],
   "source": [
    "partitioned_df['tokenized_text'] = partitioned_df['text'].apply(tokenize)"
   ]
  },
  {
   "cell_type": "code",
   "execution_count": 27,
   "id": "8fe121da",
   "metadata": {},
   "outputs": [
    {
     "data": {
      "text/html": [
       "<div>\n",
       "<style scoped>\n",
       "    .dataframe tbody tr th:only-of-type {\n",
       "        vertical-align: middle;\n",
       "    }\n",
       "\n",
       "    .dataframe tbody tr th {\n",
       "        vertical-align: top;\n",
       "    }\n",
       "\n",
       "    .dataframe thead th {\n",
       "        text-align: right;\n",
       "    }\n",
       "</style>\n",
       "<table border=\"1\" class=\"dataframe\">\n",
       "  <thead>\n",
       "    <tr style=\"text-align: right;\">\n",
       "      <th></th>\n",
       "      <th>target</th>\n",
       "      <th>text</th>\n",
       "      <th>text_len</th>\n",
       "      <th>tokenized_text</th>\n",
       "    </tr>\n",
       "  </thead>\n",
       "  <tbody>\n",
       "    <tr>\n",
       "      <th>771475</th>\n",
       "      <td>0</td>\n",
       "      <td>@Destini41 I want one!! I want one!  have one for me i'm at work</td>\n",
       "      <td>65</td>\n",
       "      <td>[work]</td>\n",
       "    </tr>\n",
       "    <tr>\n",
       "      <th>293717</th>\n",
       "      <td>0</td>\n",
       "      <td>@DjJimmyJams WTF? At 6? That shits already on on my t.v</td>\n",
       "      <td>56</td>\n",
       "      <td>[wtf, 6, shit, already]</td>\n",
       "    </tr>\n",
       "    <tr>\n",
       "      <th>919338</th>\n",
       "      <td>4</td>\n",
       "      <td>@simonusher a bit too early for me and wanting to have nice lunch too... hav...</td>\n",
       "      <td>90</td>\n",
       "      <td>[bit, early, wanting, nice, lunch, good, time]</td>\n",
       "    </tr>\n",
       "    <tr>\n",
       "      <th>1046926</th>\n",
       "      <td>4</td>\n",
       "      <td>Its a bit cloudy yet but the weatherman promised sunshine. No place nicer th...</td>\n",
       "      <td>108</td>\n",
       "      <td>[bit, cloudy, yet, weatherman, promised, sunshine, place, nicer, scotland, s...</td>\n",
       "    </tr>\n",
       "    <tr>\n",
       "      <th>1081043</th>\n",
       "      <td>4</td>\n",
       "      <td>but i am one happy girl right now.</td>\n",
       "      <td>37</td>\n",
       "      <td>[happy, girl, right]</td>\n",
       "    </tr>\n",
       "  </tbody>\n",
       "</table>\n",
       "</div>"
      ],
      "text/plain": [
       "         target  \\\n",
       "771475        0   \n",
       "293717        0   \n",
       "919338        4   \n",
       "1046926       4   \n",
       "1081043       4   \n",
       "\n",
       "                                                                                    text  \\\n",
       "771475                 @Destini41 I want one!! I want one!  have one for me i'm at work    \n",
       "293717                          @DjJimmyJams WTF? At 6? That shits already on on my t.v    \n",
       "919338   @simonusher a bit too early for me and wanting to have nice lunch too... hav...   \n",
       "1046926  Its a bit cloudy yet but the weatherman promised sunshine. No place nicer th...   \n",
       "1081043                                            but i am one happy girl right now.      \n",
       "\n",
       "         text_len  \\\n",
       "771475         65   \n",
       "293717         56   \n",
       "919338         90   \n",
       "1046926       108   \n",
       "1081043        37   \n",
       "\n",
       "                                                                          tokenized_text  \n",
       "771475                                                                            [work]  \n",
       "293717                                                           [wtf, 6, shit, already]  \n",
       "919338                                    [bit, early, wanting, nice, lunch, good, time]  \n",
       "1046926  [bit, cloudy, yet, weatherman, promised, sunshine, place, nicer, scotland, s...  \n",
       "1081043                                                             [happy, girl, right]  "
      ]
     },
     "execution_count": 27,
     "metadata": {},
     "output_type": "execute_result"
    }
   ],
   "source": [
    "partitioned_df.head()"
   ]
  },
  {
   "cell_type": "code",
   "execution_count": 26,
   "id": "306ceb78",
   "metadata": {},
   "outputs": [],
   "source": [
    "partitioned_df.to_parquet('partitioned_data.parquet')"
   ]
  },
  {
   "cell_type": "code",
   "execution_count": 103,
   "id": "38b968df",
   "metadata": {},
   "outputs": [],
   "source": [
    "partitioned_df[0:60000].to_parquet('training_data.parquet')"
   ]
  },
  {
   "cell_type": "code",
   "execution_count": 105,
   "id": "04d9cff1",
   "metadata": {},
   "outputs": [],
   "source": [
    "partitioned_df[60000:90000].to_parquet('test_data.parquet')"
   ]
  },
  {
   "cell_type": "code",
   "execution_count": null,
   "id": "ac8be164",
   "metadata": {},
   "outputs": [],
   "source": []
  }
 ],
 "metadata": {
  "kernelspec": {
   "display_name": "Python 3",
   "language": "python",
   "name": "python3"
  },
  "language_info": {
   "codemirror_mode": {
    "name": "ipython",
    "version": 3
   },
   "file_extension": ".py",
   "mimetype": "text/x-python",
   "name": "python",
   "nbconvert_exporter": "python",
   "pygments_lexer": "ipython3",
   "version": "3.8.8"
  }
 },
 "nbformat": 4,
 "nbformat_minor": 5
}
